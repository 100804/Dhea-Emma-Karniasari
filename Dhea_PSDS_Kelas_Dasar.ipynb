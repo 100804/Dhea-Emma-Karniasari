{
  "cells": [
    {
      "cell_type": "markdown",
      "metadata": {
        "id": "KF9iWdBvnZ2j"
      },
      "source": [
        "#Variabel dan Tipe Data"
      ]
    },
    {
      "cell_type": "markdown",
      "metadata": {
        "id": "30aslzOMn0ub"
      },
      "source": [
        "#Sub Bab Variabel"
      ]
    },
    {
      "cell_type": "code",
      "execution_count": null,
      "metadata": {
        "id": "hcZ1Idg9oFBW"
      },
      "outputs": [],
      "source": [
        "a=\"mangga, apel,rambutan\""
      ]
    },
    {
      "cell_type": "code",
      "execution_count": null,
      "metadata": {
        "colab": {
          "background_save": true
        },
        "id": "wiW7PnoyorZo"
      },
      "outputs": [],
      "source": [
        "a-2=mangga"
      ]
    },
    {
      "cell_type": "markdown",
      "metadata": {
        "id": "-9wki2jYqs4K"
      },
      "source": [
        "#Tipe Data\n",
        "\n",
        "5 Tipe data, yaitu:\n",
        "  1. Integer atau bilangan bulat\n",
        "  2. Float atau bilangan desimal\n",
        "  3. String atau kalimat\n",
        "  4. Boolean yang terdiri dari True and False\n",
        "  5. Complex yang merupakan bilangan kompleks\n",
        "  "
      ]
    },
    {
      "cell_type": "code",
      "execution_count": null,
      "metadata": {
        "id": "35_be28qpZ91"
      },
      "outputs": [],
      "source": [
        "# membuat variabel\n",
        "kalimat ='ini adalah variabel'\n",
        "bilangan1 = 4\n",
        "bilangan2 = 2.5\n",
        "bilangan3 = True\n",
        "bilangan4 = 1j + 4"
      ]
    },
    {
      "cell_type": "code",
      "execution_count": null,
      "metadata": {
        "colab": {
          "base_uri": "https://localhost:8080/"
        },
        "id": "ELy3MSIepbry",
        "outputId": "943c8fd0-6e55-4593-c2e7-215548552c98"
      },
      "outputs": [
        {
          "name": "stdout",
          "output_type": "stream",
          "text": [
            "<class 'str'>\n",
            "<class 'int'>\n",
            "<class 'float'>\n",
            "<class 'bool'>\n",
            "<class 'complex'>\n"
          ]
        }
      ],
      "source": [
        "# menampilkan tipe data\n",
        "print(type(kalimat))\n",
        "print(type(bilangan1))\n",
        "print(type(bilangan2))\n",
        "print(type(bilangan3))\n",
        "print(type(bilangan4))\n"
      ]
    },
    {
      "cell_type": "markdown",
      "metadata": {
        "id": "B8Xyhl8Qsf6T"
      },
      "source": [
        "#Latihan 1"
      ]
    },
    {
      "cell_type": "code",
      "execution_count": null,
      "metadata": {
        "id": "fYlfg3btsaPP"
      },
      "outputs": [],
      "source": [
        "# buatlah 5 variable kalian sendiri dengan 5 macam tipe data\n",
        "# lalu tampilkan variable menggunakan fungsi print"
      ]
    },
    {
      "cell_type": "code",
      "execution_count": null,
      "metadata": {
        "id": "VJejVJI8s-71"
      },
      "outputs": [],
      "source": [
        "# membuat variable\n",
        "kalimat = 'ini adalah variabel'\n",
        "bilangan1 = 3\n",
        "bilangan2 = 1.5\n",
        "bilangan3 = True\n",
        "bilangan4 = 7j + 3"
      ]
    },
    {
      "cell_type": "code",
      "execution_count": null,
      "metadata": {
        "colab": {
          "base_uri": "https://localhost:8080/"
        },
        "id": "i8aXnUQctyFl",
        "outputId": "cfa92fe9-0b8e-4331-d973-d6f1167bfa64"
      },
      "outputs": [
        {
          "name": "stdout",
          "output_type": "stream",
          "text": [
            "<class 'str'>\n",
            "<class 'int'>\n",
            "<class 'float'>\n",
            "<class 'bool'>\n",
            "<class 'complex'>\n"
          ]
        }
      ],
      "source": [
        "# menampilkan tipe data\n",
        "print(type(kalimat))\n",
        "print(type(bilangan1))\n",
        "print(type(bilangan2))\n",
        "print(type(bilangan3))\n",
        "print(type(bilangan4))\n"
      ]
    },
    {
      "cell_type": "markdown",
      "source": [
        "#List\n",
        "\n",
        "List adalah jenis kumpulan data terurut (ordered sequence), dan merupakan salah satu variabel yang sering digunakan pada Phyton. serupa, namun tidak sama dengan array pada pemrograman lainnya. Bedanya, elemen List pada Phyton tidak harus memiliki tipe data yang sama. List cukup mudah digunakan yaitu dengan menggunakan kurung siku dan dan elemen yang dipisahkan dengan koma.\n",
        "\n",
        "Setiap data di dalamnya dapat diakses dengan indeks yang dimulai dari 0."
      ],
      "metadata": {
        "id": "AzhvS_VBXZmY"
      }
    },
    {
      "cell_type": "code",
      "execution_count": null,
      "metadata": {
        "id": "4RWFQ-vFzlRx"
      },
      "outputs": [],
      "source": [
        "#Contoh List\n",
        "L1 = [1,4,2,13]\n",
        "\n"
      ]
    },
    {
      "cell_type": "code",
      "source": [
        "matkul = [\"furry\", \"pdp\", \"metnum\", \"graph\"]\n",
        "print(matkul[2])\n",
        "print(matkul[2:])\n",
        "print(matkul[1:3])\n",
        "print(matkul[-2])\n",
        "print(matkul[-3:-1])"
      ],
      "metadata": {
        "colab": {
          "base_uri": "https://localhost:8080/"
        },
        "id": "QVpBtZWVZ4Cz",
        "outputId": "812cbbba-d9b2-435c-8dd3-ed18b695ef48"
      },
      "execution_count": null,
      "outputs": [
        {
          "output_type": "stream",
          "name": "stdout",
          "text": [
            "metnum\n",
            "['metnum', 'graph']\n",
            "['pdp', 'metnum']\n",
            "metnum\n",
            "['pdp', 'metnum']\n"
          ]
        }
      ]
    },
    {
      "cell_type": "code",
      "source": [
        "print(matkul[-1])"
      ],
      "metadata": {
        "colab": {
          "base_uri": "https://localhost:8080/"
        },
        "id": "c3SXyxd9bl9M",
        "outputId": "af973e7a-60ff-4593-feb5-51c38539f020"
      },
      "execution_count": null,
      "outputs": [
        {
          "output_type": "stream",
          "name": "stdout",
          "text": [
            "graph\n"
          ]
        }
      ]
    },
    {
      "cell_type": "markdown",
      "source": [
        "#Latihan 1"
      ],
      "metadata": {
        "id": "k5H2zg7-cDG_"
      }
    },
    {
      "cell_type": "code",
      "source": [
        "#buatlah list kalian sendiri dengan tiga tipe data minimal enam elemen"
      ],
      "metadata": {
        "id": "yTqyXRI-b_Q2"
      },
      "execution_count": null,
      "outputs": []
    },
    {
      "cell_type": "code",
      "source": [
        "#List\n",
        "S1 = [1,3,5,15]"
      ],
      "metadata": {
        "id": "3xZYfdLFcQhp"
      },
      "execution_count": null,
      "outputs": []
    },
    {
      "cell_type": "code",
      "source": [
        "hewan = [\"kucing\", \"kelinci\", \"panda\", \"singa\"]\n",
        "print(hewan[2])\n",
        "print(hewan[2:])\n",
        "print(hewan[1:3])\n",
        "print(hewan[-2])\n",
        "print(hewan[-3:-1])\n",
        "print(hewan[-4:1])"
      ],
      "metadata": {
        "colab": {
          "base_uri": "https://localhost:8080/"
        },
        "id": "KGM0ehoHeGG-",
        "outputId": "59b4784f-0a54-4996-9bdc-4307d7abadaa"
      },
      "execution_count": null,
      "outputs": [
        {
          "output_type": "stream",
          "name": "stdout",
          "text": [
            "panda\n",
            "['panda', 'singa']\n",
            "['kelinci', 'panda']\n",
            "panda\n",
            "['kelinci', 'panda']\n",
            "['kucing']\n"
          ]
        }
      ]
    },
    {
      "cell_type": "markdown",
      "source": [
        "# Sifat-sifat List"
      ],
      "metadata": {
        "id": "7SJgLoQehlqA"
      }
    },
    {
      "cell_type": "code",
      "source": [
        "L1 = [1,4,2,13]\n",
        "L1"
      ],
      "metadata": {
        "colab": {
          "base_uri": "https://localhost:8080/"
        },
        "id": "oxqdvWWnfMhu",
        "outputId": "e3b89837-c33f-41b4-9434-1983f60f5dba"
      },
      "execution_count": null,
      "outputs": [
        {
          "output_type": "execute_result",
          "data": {
            "text/plain": [
              "[1, 4, 2, 13]"
            ]
          },
          "metadata": {},
          "execution_count": 10
        }
      ]
    },
    {
      "cell_type": "code",
      "source": [
        "#Terurut/ordered\n",
        "print(\"memanggil List L1 dengan Indeks urutan :\", L1[0:3])"
      ],
      "metadata": {
        "colab": {
          "base_uri": "https://localhost:8080/"
        },
        "id": "M204pisOh4_w",
        "outputId": "6a8f7c1d-64ef-4c85-82fc-e9585f2a1d5e"
      },
      "execution_count": null,
      "outputs": [
        {
          "output_type": "stream",
          "name": "stdout",
          "text": [
            "memanggil List L1 dengan Indeks urutan : [1, 4, 2]\n"
          ]
        }
      ]
    },
    {
      "cell_type": "code",
      "source": [
        "#Bisa diganti/mutable\n",
        "L1[1] = 2\n",
        "print(L1)"
      ],
      "metadata": {
        "colab": {
          "base_uri": "https://localhost:8080/"
        },
        "id": "_b5N50BJiRK4",
        "outputId": "e05cfff0-8ba2-46c3-b3a5-6f81ac66443e"
      },
      "execution_count": null,
      "outputs": [
        {
          "output_type": "stream",
          "name": "stdout",
          "text": [
            "[1, 2, 2, 13]\n"
          ]
        }
      ]
    },
    {
      "cell_type": "code",
      "source": [
        "matkul = [\"furry\", \"pdp\", \"metnum\", \"graph\", \"sisdim\"]\n",
        "matkul[3] = \"aktuaria\"\n",
        "print(matkul)"
      ],
      "metadata": {
        "colab": {
          "base_uri": "https://localhost:8080/"
        },
        "id": "DTBFUamZivBy",
        "outputId": "09f5bd85-c423-4915-93c5-30bb52fc28a9"
      },
      "execution_count": null,
      "outputs": [
        {
          "output_type": "stream",
          "name": "stdout",
          "text": [
            "['furry', 'pdp', 'metnum', 'aktuaria', 'sisdim']\n"
          ]
        }
      ]
    },
    {
      "cell_type": "code",
      "source": [
        "#Dapat diindeks/slicing\n",
        "L1 = [1, \"dua\", True, 2+3J]\n",
        "print(\"slicing List L1 :\", L1[3])"
      ],
      "metadata": {
        "colab": {
          "base_uri": "https://localhost:8080/"
        },
        "id": "6Fv0c8a_jhKL",
        "outputId": "d8c511e5-686d-4b7b-dcde-60c8ce91d42c"
      },
      "execution_count": null,
      "outputs": [
        {
          "output_type": "stream",
          "name": "stdout",
          "text": [
            "slicing List L1 : (2+3j)\n"
          ]
        }
      ]
    },
    {
      "cell_type": "code",
      "source": [
        "#Dapat diijinkan duplikasi\n",
        "L1 = [1, \"dua\", True, 2+3j, 2+3j]\n",
        "print(\"Duplikat pada list L1\", L1)"
      ],
      "metadata": {
        "colab": {
          "base_uri": "https://localhost:8080/"
        },
        "id": "5dmClMX2kXKm",
        "outputId": "a7faf851-8131-43e4-9b53-126903186b69"
      },
      "execution_count": null,
      "outputs": [
        {
          "output_type": "stream",
          "name": "stdout",
          "text": [
            "Duplikat pada list L1 [1, 'dua', True, (2+3j), (2+3j)]\n"
          ]
        }
      ]
    },
    {
      "cell_type": "markdown",
      "source": [
        "# Latihan 2"
      ],
      "metadata": {
        "id": "OuXYmFBqlmv_"
      }
    },
    {
      "cell_type": "code",
      "source": [
        "#Ganti elemen yang ada pada list yang kalian buat"
      ],
      "metadata": {
        "id": "2sQOpu-klQSk"
      },
      "execution_count": null,
      "outputs": []
    },
    {
      "cell_type": "code",
      "source": [
        "#Sifat-siat list\n",
        "\n",
        "#Terurut/ordered\n",
        "print(\"Memanggil List L1 dengan indeks urutan :\", L1[0:2])"
      ],
      "metadata": {
        "colab": {
          "base_uri": "https://localhost:8080/"
        },
        "id": "Gnz_S3cVlxGT",
        "outputId": "7b918899-c8de-4cdf-ea3d-88d2aaac1873"
      },
      "execution_count": null,
      "outputs": [
        {
          "output_type": "stream",
          "name": "stdout",
          "text": [
            "Memanggil List L1 dengan indeks urutan : [1, 'dua']\n"
          ]
        }
      ]
    },
    {
      "cell_type": "markdown",
      "source": [
        "# Struktur Data Tuple\n",
        "\n"
      ],
      "metadata": {
        "id": "p7P3-4tyrh1r"
      }
    },
    {
      "cell_type": "markdown",
      "source": [
        "Tuple adalah jenis dari struktur data yang tidak dapat diubah elemennya. Umumnya tuple digunakan untuk data yang bersifat sekali tulis, dan dapat dieksekusi lebih cepat. Tuple didefinisikan dengan kurung dan elemen yang dipisahkan dengan koma.\n",
        "\n"
      ],
      "metadata": {
        "id": "O6G-K3nkwb5O"
      }
    },
    {
      "cell_type": "code",
      "source": [
        "#Contoh tuple\n",
        "T1 = (1, 'dua', True, 1+2j)\n",
        "print(\"ini adalah tuple\", T1)"
      ],
      "metadata": {
        "id": "MXyWgZcDmeGt",
        "colab": {
          "base_uri": "https://localhost:8080/"
        },
        "outputId": "21fb4821-48eb-4e7a-c460-b6f0d02ef62d"
      },
      "execution_count": null,
      "outputs": [
        {
          "output_type": "stream",
          "name": "stdout",
          "text": [
            "ini adalah tuple (1, 'dua', True, (1+2j))\n"
          ]
        }
      ]
    },
    {
      "cell_type": "code",
      "source": [
        "#Menampilkan tipe struktur data\n",
        "type(T1)"
      ],
      "metadata": {
        "colab": {
          "base_uri": "https://localhost:8080/"
        },
        "id": "6KKkAqdpvPeA",
        "outputId": "a8621d91-9e9b-4655-84ba-398a8aff408d"
      },
      "execution_count": null,
      "outputs": [
        {
          "output_type": "execute_result",
          "data": {
            "text/plain": [
              "tuple"
            ]
          },
          "metadata": {},
          "execution_count": 11
        }
      ]
    },
    {
      "cell_type": "markdown",
      "source": [
        "# Latihan"
      ],
      "metadata": {
        "id": "5vxTt2chyUPx"
      }
    },
    {
      "cell_type": "code",
      "source": [
        "#buatlah list kalian sendiri dengan tiga tipe data minimal enam elemen"
      ],
      "metadata": {
        "id": "FatTu2jnw86h"
      },
      "execution_count": null,
      "outputs": []
    },
    {
      "cell_type": "code",
      "source": [
        "T2 = (\"desimal\", 76.0, 3+10j)\n",
        "print(\"ini adalah tuple dua\", T2)"
      ],
      "metadata": {
        "colab": {
          "base_uri": "https://localhost:8080/"
        },
        "id": "Wn9haKnkylBN",
        "outputId": "4b2fe3e1-3bfa-47cf-a2a3-b652f06295af"
      },
      "execution_count": null,
      "outputs": [
        {
          "output_type": "stream",
          "name": "stdout",
          "text": [
            "ini adalah tuple dua ('desimal', 76.0, (3+10j))\n"
          ]
        }
      ]
    },
    {
      "cell_type": "code",
      "source": [
        "L3 = [2.5, 12, 250, 17.8]\n",
        "print(type(L3))"
      ],
      "metadata": {
        "colab": {
          "base_uri": "https://localhost:8080/"
        },
        "id": "7BvWJcSu7BWV",
        "outputId": "0c39fb74-2665-43f4-c715-428b30e7cfa3"
      },
      "execution_count": null,
      "outputs": [
        {
          "output_type": "stream",
          "name": "stdout",
          "text": [
            "<class 'list'>\n"
          ]
        }
      ]
    },
    {
      "cell_type": "code",
      "source": [
        "L4 = [\"bilangan desimal\", 2.5, 17.8, \"bilangan bulat\", 12, 250]\n",
        "L4"
      ],
      "metadata": {
        "colab": {
          "base_uri": "https://localhost:8080/"
        },
        "id": "ho_SAo0My39I",
        "outputId": "08c79844-f8ff-46de-99bb-f57f75532f79"
      },
      "execution_count": null,
      "outputs": [
        {
          "output_type": "execute_result",
          "data": {
            "text/plain": [
              "['bilangan desimal', 2.5, 17.8, 'bilangan bulat', 12, 250]"
            ]
          },
          "metadata": {},
          "execution_count": 14
        }
      ]
    },
    {
      "cell_type": "code",
      "source": [
        "print(L3)\n",
        "print(L4)"
      ],
      "metadata": {
        "colab": {
          "base_uri": "https://localhost:8080/"
        },
        "id": "ffk3O4x25Q3P",
        "outputId": "0e6c21ff-402d-475f-b980-68a30ff1de55"
      },
      "execution_count": null,
      "outputs": [
        {
          "output_type": "stream",
          "name": "stdout",
          "text": [
            "[2.5, 12, 250, 17.8]\n",
            "['bilangan desimal', 2.5, 17.8, 'bilangan bulat', 12, 250]\n"
          ]
        }
      ]
    },
    {
      "cell_type": "markdown",
      "source": [
        "# Sifat-Sifat Tuple"
      ],
      "metadata": {
        "id": "4SNr2--t7zuO"
      }
    },
    {
      "cell_type": "code",
      "source": [
        "#Terurut/ordered\n",
        "T1[0:3]"
      ],
      "metadata": {
        "colab": {
          "base_uri": "https://localhost:8080/"
        },
        "id": "fwQ5e1yN5cEG",
        "outputId": "027a3a6c-2163-4730-f0ac-85d016b471e1"
      },
      "execution_count": null,
      "outputs": [
        {
          "output_type": "execute_result",
          "data": {
            "text/plain": [
              "(1, 'dua', True)"
            ]
          },
          "metadata": {},
          "execution_count": 19
        }
      ]
    },
    {
      "cell_type": "code",
      "source": [
        "#Tidak bisa diganti/imutable\n",
        "T1[2] = \"manusia\""
      ],
      "metadata": {
        "id": "VAQ1yNmW8Dqi"
      },
      "execution_count": null,
      "outputs": []
    },
    {
      "cell_type": "code",
      "source": [
        "#Dapat diindeks/slicing\n",
        "print(\"elemen kedua dari tuple T1 adalah :\", T1[1])"
      ],
      "metadata": {
        "colab": {
          "base_uri": "https://localhost:8080/"
        },
        "id": "At3PlmBx8yWi",
        "outputId": "221fe334-3207-47ce-9496-b857b9b890d0"
      },
      "execution_count": null,
      "outputs": [
        {
          "output_type": "stream",
          "name": "stdout",
          "text": [
            "elemen kedua dari tuple T1 adalah : dua\n"
          ]
        }
      ]
    },
    {
      "cell_type": "code",
      "source": [
        "#Dapat diijinkan duplikasi\n",
        "T2 = (3, 2.4, True, 2.4)\n",
        "T2"
      ],
      "metadata": {
        "colab": {
          "base_uri": "https://localhost:8080/"
        },
        "id": "TZaRmDJm8d-z",
        "outputId": "649e75c4-d218-4f05-ad4b-8dcdb75e8d62"
      },
      "execution_count": null,
      "outputs": [
        {
          "output_type": "execute_result",
          "data": {
            "text/plain": [
              "(3, 2.4, True, 2.4)"
            ]
          },
          "metadata": {},
          "execution_count": 22
        }
      ]
    },
    {
      "cell_type": "markdown",
      "source": [
        "# Menggabungkan Tuple"
      ],
      "metadata": {
        "id": "TV4JQmsl9Nne"
      }
    },
    {
      "cell_type": "code",
      "source": [
        "#Menggabungkan Tuple\n",
        "T3 = T1 + T2\n",
        "T3"
      ],
      "metadata": {
        "colab": {
          "base_uri": "https://localhost:8080/"
        },
        "id": "She93b6W9JYK",
        "outputId": "740fe847-cd19-431c-a96f-eb176079605c"
      },
      "execution_count": null,
      "outputs": [
        {
          "output_type": "execute_result",
          "data": {
            "text/plain": [
              "(1, 'dua', True, (1+2j), 3, 2.4, True, 2.4)"
            ]
          },
          "metadata": {},
          "execution_count": 23
        }
      ]
    },
    {
      "cell_type": "markdown",
      "source": [
        "# Latihan 2"
      ],
      "metadata": {
        "id": "6kL5sgk1960m"
      }
    },
    {
      "cell_type": "code",
      "source": [
        "#Buatlah tuple lalu gabungkan 2 tuple yang telah kamu buat"
      ],
      "metadata": {
        "id": "uXr7zWUA9ehc"
      },
      "execution_count": null,
      "outputs": []
    },
    {
      "cell_type": "code",
      "source": [
        "T3 = (\"ganjil\", 21, True, 1+4j)\n",
        "print(\"ini adalah tuple tiga\", T3)"
      ],
      "metadata": {
        "colab": {
          "base_uri": "https://localhost:8080/"
        },
        "id": "N_VR7pu3-Hwp",
        "outputId": "dfb99651-0bc2-47af-ba5c-12bfdf7f2721"
      },
      "execution_count": null,
      "outputs": [
        {
          "output_type": "stream",
          "name": "stdout",
          "text": [
            "ini adalah tuple tiga ('ganjil', 21, True, (1+4j))\n"
          ]
        }
      ]
    },
    {
      "cell_type": "code",
      "source": [
        "#gabungkan T2 dan T3\n",
        "T4 = T2 + T3\n",
        "T4"
      ],
      "metadata": {
        "colab": {
          "base_uri": "https://localhost:8080/"
        },
        "id": "np5CFOsh-eJZ",
        "outputId": "07424b34-869e-451b-dfea-53e0d5474119"
      },
      "execution_count": null,
      "outputs": [
        {
          "output_type": "execute_result",
          "data": {
            "text/plain": [
              "(3, 2.4, True, 2.4, 'ganjil', 21, True, (1+4j))"
            ]
          },
          "metadata": {},
          "execution_count": 26
        }
      ]
    },
    {
      "cell_type": "markdown",
      "source": [
        "# String"
      ],
      "metadata": {
        "id": "UM18pqkfogMc"
      }
    },
    {
      "cell_type": "code",
      "source": [
        "#Slicing pada string\n",
        "A = \"Belajar Struktur data string\"\n",
        "print(A[:5])\n",
        "print(A[3:])\n",
        "print(A[-5:])\n",
        "print(A[4:9])"
      ],
      "metadata": {
        "id": "lNPdrHg8-p01",
        "colab": {
          "base_uri": "https://localhost:8080/"
        },
        "outputId": "9353878c-3ff5-4d1e-e573-a372e090c2fc"
      },
      "execution_count": null,
      "outputs": [
        {
          "output_type": "stream",
          "name": "stdout",
          "text": [
            "Belaj\n",
            "ajar Struktur data string\n",
            "tring\n",
            "jar S\n"
          ]
        }
      ]
    },
    {
      "cell_type": "code",
      "source": [
        "print(A[8:16])\n"
      ],
      "metadata": {
        "colab": {
          "base_uri": "https://localhost:8080/"
        },
        "id": "dr4K9u2yqcsw",
        "outputId": "a8187a4f-b724-432b-92ac-7dbd910199ed"
      },
      "execution_count": null,
      "outputs": [
        {
          "output_type": "stream",
          "name": "stdout",
          "text": [
            "Struktur\n",
            "Struktu\n"
          ]
        }
      ]
    },
    {
      "cell_type": "markdown",
      "source": [
        "# Latihan"
      ],
      "metadata": {
        "id": "ODVIb35spy8W"
      }
    },
    {
      "cell_type": "code",
      "source": [
        "#Buatlah variable string lalu lakukan slicing dengan menghilangkan karakter pertama dan terakhir"
      ],
      "metadata": {
        "id": "r5UTqc15poQJ"
      },
      "execution_count": null,
      "outputs": []
    },
    {
      "cell_type": "code",
      "source": [
        "A = \"Belajar Struktur data string\"\n",
        "print(A[1:27])"
      ],
      "metadata": {
        "colab": {
          "base_uri": "https://localhost:8080/"
        },
        "id": "_hcoS41xqOEv",
        "outputId": "d607dbc6-dea1-4a96-eb16-d82014fef388"
      },
      "execution_count": null,
      "outputs": [
        {
          "output_type": "stream",
          "name": "stdout",
          "text": [
            "elajar Struktur data strin\n"
          ]
        }
      ]
    },
    {
      "cell_type": "markdown",
      "source": [
        "# Memodifikasi String"
      ],
      "metadata": {
        "id": "x5jvsxOFrzwr"
      }
    },
    {
      "cell_type": "code",
      "source": [
        "#upper()\n",
        "A. upper()"
      ],
      "metadata": {
        "colab": {
          "base_uri": "https://localhost:8080/",
          "height": 35
        },
        "id": "uDUy9LfzrNFm",
        "outputId": "d9ecb904-3da1-4b1c-a13f-443579c16a89"
      },
      "execution_count": null,
      "outputs": [
        {
          "output_type": "execute_result",
          "data": {
            "text/plain": [
              "'BELAJAR STRUKTUR DATA STRING'"
            ],
            "application/vnd.google.colaboratory.intrinsic+json": {
              "type": "string"
            }
          },
          "metadata": {},
          "execution_count": 8
        }
      ]
    },
    {
      "cell_type": "code",
      "source": [
        "#lower()\n",
        "A. lower ()"
      ],
      "metadata": {
        "colab": {
          "base_uri": "https://localhost:8080/",
          "height": 35
        },
        "id": "q8bj-mC_rjzR",
        "outputId": "a6ca147b-38e4-4b8b-fb27-718863b2c3b4"
      },
      "execution_count": null,
      "outputs": [
        {
          "output_type": "execute_result",
          "data": {
            "text/plain": [
              "'belajar struktur data string'"
            ],
            "application/vnd.google.colaboratory.intrinsic+json": {
              "type": "string"
            }
          },
          "metadata": {},
          "execution_count": 9
        }
      ]
    },
    {
      "cell_type": "code",
      "source": [
        "#replace()\n",
        "A. replace('l', 'd')"
      ],
      "metadata": {
        "colab": {
          "base_uri": "https://localhost:8080/",
          "height": 35
        },
        "id": "UgS1okUhrsRj",
        "outputId": "78539995-5a0c-490d-813e-f6a861b783a6"
      },
      "execution_count": null,
      "outputs": [
        {
          "output_type": "execute_result",
          "data": {
            "text/plain": [
              "'Bedajar Struktur data string'"
            ],
            "application/vnd.google.colaboratory.intrinsic+json": {
              "type": "string"
            }
          },
          "metadata": {},
          "execution_count": 11
        }
      ]
    },
    {
      "cell_type": "code",
      "source": [
        "#replace()\n",
        "A. replace('u', 'i')"
      ],
      "metadata": {
        "colab": {
          "base_uri": "https://localhost:8080/",
          "height": 35
        },
        "id": "0MYdeR6msm7r",
        "outputId": "20c8e6fc-21df-4313-d970-c4e9124fd31e"
      },
      "execution_count": null,
      "outputs": [
        {
          "output_type": "execute_result",
          "data": {
            "text/plain": [
              "'Belajar Striktir data string'"
            ],
            "application/vnd.google.colaboratory.intrinsic+json": {
              "type": "string"
            }
          },
          "metadata": {},
          "execution_count": 12
        }
      ]
    },
    {
      "cell_type": "code",
      "source": [
        "#split()\n",
        "A.split()"
      ],
      "metadata": {
        "colab": {
          "base_uri": "https://localhost:8080/"
        },
        "id": "98L2vbkttAOv",
        "outputId": "718d4aaf-3298-4619-d066-39e1b8f34fff"
      },
      "execution_count": null,
      "outputs": [
        {
          "output_type": "execute_result",
          "data": {
            "text/plain": [
              "['Belajar', 'Struktur', 'data', 'string']"
            ]
          },
          "metadata": {},
          "execution_count": 13
        }
      ]
    },
    {
      "cell_type": "markdown",
      "source": [
        "# Menggabungkan String"
      ],
      "metadata": {
        "id": "iWm-VZcetPlE"
      }
    },
    {
      "cell_type": "code",
      "source": [
        "A = \"Belajar Struktur data string\"\n",
        "B = \"Pejuang Data 3.0\"\n",
        "A + \" \" + B"
      ],
      "metadata": {
        "colab": {
          "base_uri": "https://localhost:8080/",
          "height": 35
        },
        "id": "Oj6dgRshtMzU",
        "outputId": "ba0b5a08-31d0-4a2c-91ad-fb40eea6281c"
      },
      "execution_count": null,
      "outputs": [
        {
          "output_type": "execute_result",
          "data": {
            "text/plain": [
              "'Belajar Struktur data string Pejuang Data 3.0'"
            ],
            "application/vnd.google.colaboratory.intrinsic+json": {
              "type": "string"
            }
          },
          "metadata": {},
          "execution_count": 14
        }
      ]
    },
    {
      "cell_type": "markdown",
      "source": [
        "# Set"
      ],
      "metadata": {
        "id": "PDRlcGOttl4W"
      }
    },
    {
      "cell_type": "markdown",
      "source": [
        "Set adlah kumpulan item bersifat unik dan tanpa urutan"
      ],
      "metadata": {
        "id": "F2L2YUlOt41K"
      }
    },
    {
      "cell_type": "code",
      "source": [
        "#Contoh Set\n",
        "S1 = {1, \"dua\", True, 2+3j}"
      ],
      "metadata": {
        "id": "Quwd4Lkmtf8Z"
      },
      "execution_count": null,
      "outputs": []
    },
    {
      "cell_type": "code",
      "source": [
        "#Sifat-sifat set\n",
        "\n",
        "#Tidak Terurut/unordered\n",
        "print(\"Memanggil Set S1 dengan indeks urutan\")"
      ],
      "metadata": {
        "colab": {
          "base_uri": "https://localhost:8080/"
        },
        "id": "xdTFuizKuMdJ",
        "outputId": "c087f560-3b02-4588-8402-8300ad20c2c2"
      },
      "execution_count": null,
      "outputs": [
        {
          "output_type": "stream",
          "name": "stdout",
          "text": [
            "Memanggil Set S1 dengan indeks urutan\n"
          ]
        }
      ]
    },
    {
      "cell_type": "code",
      "source": [
        "S1 = {1, \"dua\", True, 2+3j}\n",
        "#Tidak dapat diindeks\n",
        "print(\"Slicing set 1\", S1[3])"
      ],
      "metadata": {
        "id": "I1fGUtovuhF8"
      },
      "execution_count": null,
      "outputs": []
    },
    {
      "cell_type": "code",
      "source": [
        "#Dapat diijinkan duplikasi\n",
        "S1 = {1, \"dua\", \"dua\", 2, 2+3j} #Boolean tidak terbaca atau dianggap tidak ada\n",
        "print(\"duplikasi pada set 1:\", S1)"
      ],
      "metadata": {
        "colab": {
          "base_uri": "https://localhost:8080/"
        },
        "id": "UBlsmRyBu53F",
        "outputId": "16b4ac29-ce60-41b4-c7df-c35a0bd81c2c"
      },
      "execution_count": null,
      "outputs": [
        {
          "output_type": "stream",
          "name": "stdout",
          "text": [
            "duplikasi pada set 1: {1, 'dua', 2, (2+3j)}\n"
          ]
        }
      ]
    },
    {
      "cell_type": "code",
      "source": [
        "ganjil={1,3,5,7,9}\n",
        "genap={2,4,6,8,10}\n",
        "prima={2,3,5,7}\n",
        "\n",
        "# Union\n",
        "print(ganjil.union(genap))\n",
        "\n",
        "#Intersection\n",
        "print(ganjil.intersection(prima))"
      ],
      "metadata": {
        "colab": {
          "base_uri": "https://localhost:8080/"
        },
        "id": "kdpKuY7GvX4q",
        "outputId": "df996079-9ba2-4f84-e954-c32a3c70717a"
      },
      "execution_count": null,
      "outputs": [
        {
          "output_type": "stream",
          "name": "stdout",
          "text": [
            "{1, 2, 3, 4, 5, 6, 7, 8, 9, 10}\n",
            "{3, 5, 7}\n"
          ]
        }
      ]
    },
    {
      "cell_type": "markdown",
      "source": [
        "# Dictionary"
      ],
      "metadata": {
        "id": "bwfH55t3w-vk"
      }
    },
    {
      "cell_type": "code",
      "source": [
        "L1 = [1, 'dua', True, 2+3j, 2+3j]\n",
        "L1"
      ],
      "metadata": {
        "colab": {
          "base_uri": "https://localhost:8080/"
        },
        "id": "J1IH_XB6v_tq",
        "outputId": "9c08ac83-e043-47f7-f836-37bf639e27ad"
      },
      "execution_count": null,
      "outputs": [
        {
          "output_type": "execute_result",
          "data": {
            "text/plain": [
              "[1, 'dua', True, (2+3j), (2+3j)]"
            ]
          },
          "metadata": {},
          "execution_count": 22
        }
      ]
    },
    {
      "cell_type": "code",
      "source": [
        "#Buatlah Struktur data dictionary kalian sendiri"
      ],
      "metadata": {
        "id": "ccWbm5yPyNck"
      },
      "execution_count": null,
      "outputs": []
    },
    {
      "cell_type": "code",
      "source": [
        "#Contoh dictionary\n",
        "L2 = [3, 'tiga', False, 2000, 7.8]\n",
        "L2"
      ],
      "metadata": {
        "colab": {
          "base_uri": "https://localhost:8080/"
        },
        "id": "U7Xn_eLOxfBS",
        "outputId": "90c8b33e-3e0a-4237-e2cd-6a3e9d0572e3"
      },
      "execution_count": null,
      "outputs": [
        {
          "output_type": "execute_result",
          "data": {
            "text/plain": [
              "[3, 'tiga', False, 2000, 7.8]"
            ]
          },
          "metadata": {},
          "execution_count": 31
        }
      ]
    },
    {
      "cell_type": "code",
      "source": [
        "D1 = {5: 'ganjil', 2+2j : 8, 2.5 : True, 'list':L1}\n",
        "      print(D1)"
      ],
      "metadata": {
        "id": "ghNQpSldcQsb"
      },
      "execution_count": null,
      "outputs": []
    },
    {
      "cell_type": "code",
      "source": [
        "D2 = {10: 'genap', 3+3j : 8, 5.5 : True,'list':L2}\n",
        "print(D2)"
      ],
      "metadata": {
        "colab": {
          "base_uri": "https://localhost:8080/"
        },
        "id": "jVAIWylfxx2A",
        "outputId": "a451b447-66d9-4e89-8880-1aa28a7166c6"
      },
      "execution_count": null,
      "outputs": [
        {
          "output_type": "stream",
          "name": "stdout",
          "text": [
            "{10: 'genap', (3+3j): 8, 5.5: True, 'list': [3, 'tiga', False, 2000, 7.8]}\n"
          ]
        }
      ]
    },
    {
      "cell_type": "code",
      "source": [
        "L2[2]"
      ],
      "metadata": {
        "colab": {
          "base_uri": "https://localhost:8080/"
        },
        "id": "vZZ6gDLCyJIw",
        "outputId": "6701cd14-c77f-41c2-bdb7-7909d2a221ec"
      },
      "execution_count": null,
      "outputs": [
        {
          "output_type": "execute_result",
          "data": {
            "text/plain": [
              "False"
            ]
          },
          "metadata": {},
          "execution_count": 33
        }
      ]
    },
    {
      "cell_type": "code",
      "source": [
        "#memanggil elemen berdasarkan key\n",
        "print(\"D1[5] = \", D1[5])\n",
        "print(\"D1[2+2j] = \", D1[2+2j])\n",
        "print(\"D1[2.5] = \", D1[2.5])"
      ],
      "metadata": {
        "id": "_zKOA6aSaBSc"
      },
      "execution_count": null,
      "outputs": []
    },
    {
      "cell_type": "code",
      "source": [
        "#memanggil elemen berdasarkan key\n",
        "print(\"D1['key'] =\", D1['key']) ;"
      ],
      "metadata": {
        "id": "u0xqS2tSydZA"
      },
      "execution_count": null,
      "outputs": []
    },
    {
      "cell_type": "markdown",
      "source": [
        "# Latihan 2"
      ],
      "metadata": {
        "id": "kS_IA1V30czR"
      }
    },
    {
      "cell_type": "code",
      "source": [
        "#memanggil elemen berdasarkan key\n",
        "print(\"D2[10] = \", D2[10]) \n",
        "print(\"D2[3+3j] = \", D2[3+3j]) \n",
        "print(\"D2[5.5] = \", D2[5.5])"
      ],
      "metadata": {
        "colab": {
          "base_uri": "https://localhost:8080/"
        },
        "id": "-d9KIayazwFd",
        "outputId": "53d58698-f806-4417-b26f-a8472724b7d9"
      },
      "execution_count": null,
      "outputs": [
        {
          "output_type": "stream",
          "name": "stdout",
          "text": [
            "D2[10] =  genap\n",
            "D2[3+3j] =  8\n",
            "D2[5.5] =  True\n"
          ]
        }
      ]
    },
    {
      "cell_type": "code",
      "source": [
        "#memanggil elemen berdasarkan value\n",
        "print(\"D2['genap'] = \", D2['genap'])\n",
        "print(\"D2['8'] = \", D2['8'])\n",
        "print(\"D2['True'] = \", D2['True'])"
      ],
      "metadata": {
        "id": "WYiqTY_41Qw1"
      },
      "execution_count": null,
      "outputs": []
    },
    {
      "cell_type": "code",
      "source": [],
      "metadata": {
        "id": "RDpWuW923IOG"
      },
      "execution_count": null,
      "outputs": []
    },
    {
      "cell_type": "markdown",
      "source": [
        "# Percabangan/Struktur Pemilihan"
      ],
      "metadata": {
        "id": "-AHe0mj2Z2tY"
      }
    },
    {
      "cell_type": "markdown",
      "source": [
        "Pada bagian ini, kamu akan membuat keputusan pada bahasa pemrograman Python menggunakan struktur percabangan atau sering disebut IF ELSE Statment. Pengembalian keputusan dibutuhkan ketika kamuakan mengeksekusi suat kode jika sebuah kondisi tertentu dipenuhi.\n",
        "Statment if...elif...else digunakan pada bahasa Python untuk pengambilan keputusan."
      ],
      "metadata": {
        "id": "ugAxNmYePiKh"
      }
    },
    {
      "cell_type": "markdown",
      "source": [
        "# Example Phyton IF Statment"
      ],
      "metadata": {
        "id": "2tNAYtR6aoYy"
      }
    },
    {
      "cell_type": "code",
      "source": [
        "angka = -2\n",
        "if angka > 0:\n",
        "  print(angka, \"adalah bilangan positif.\")\n",
        "print(angka, \"adalah bilangan negatif.\")"
      ],
      "metadata": {
        "id": "k69XanWVaAAs",
        "colab": {
          "base_uri": "https://localhost:8080/"
        },
        "outputId": "0a4f9a22-9fd6-457c-cc21-d225328bf0b7"
      },
      "execution_count": null,
      "outputs": [
        {
          "output_type": "stream",
          "name": "stdout",
          "text": [
            "-2 adalah bilangan negatif.\n"
          ]
        }
      ]
    },
    {
      "cell_type": "code",
      "source": [
        "#Jika angka adalah bilangan positif maka print \"adalah bilangan positif\"\n",
        "\n",
        "angka = -1"
      ],
      "metadata": {
        "id": "A3LPay7raXwE"
      },
      "execution_count": null,
      "outputs": []
    },
    {
      "cell_type": "code",
      "source": [
        "if test expression:\n",
        "  Body of if\n",
        "  else:\n",
        "    Body of else"
      ],
      "metadata": {
        "id": "bvNps2j0a1N7"
      },
      "execution_count": null,
      "outputs": []
    },
    {
      "cell_type": "code",
      "source": [
        "#Program disusun untuk mengecek apakah \n",
        "\n",
        "angka = 3\n",
        "\n",
        "if angka >= 0:\n",
        "  print(\"Bilangan lebih dari atau samadengan 0\")\n",
        "else:\n",
        "  print(\"Bilangan kurang dari 0\")"
      ],
      "metadata": {
        "colab": {
          "base_uri": "https://localhost:8080/"
        },
        "id": "RVI8hpOUbBx0",
        "outputId": "cb7876f5-710e-4076-e182-eeac715fabcc"
      },
      "execution_count": null,
      "outputs": [
        {
          "output_type": "stream",
          "name": "stdout",
          "text": [
            "Bilangan lebih dari atau samadengan 0\n"
          ]
        }
      ]
    },
    {
      "cell_type": "code",
      "source": [
        "angka = 7\n",
        "\n",
        "if angka >= 0:\n",
        "  print(\"Bilangan lebih dari atau samadengan 0\")\n",
        "else:\n",
        "  print(\"Bilangan kurang dari 0\")"
      ],
      "metadata": {
        "colab": {
          "base_uri": "https://localhost:8080/"
        },
        "id": "KjY74ZgSbpLK",
        "outputId": "98892e61-2d24-4570-f7f3-58e4d0937e08"
      },
      "execution_count": null,
      "outputs": [
        {
          "output_type": "stream",
          "name": "stdout",
          "text": [
            "Bilangan lebih dari atau samadengan 0\n"
          ]
        }
      ]
    },
    {
      "cell_type": "code",
      "source": [
        "a = 5\n",
        "b = 5\n",
        "\n",
        "if a==b:\n",
        "  print(\"a dan b bernilai sama\")\n",
        "else:\n",
        "  print(\"a dan b bernilai berbeda\")"
      ],
      "metadata": {
        "colab": {
          "base_uri": "https://localhost:8080/"
        },
        "id": "tK4yw05mcPb-",
        "outputId": "f8a41624-83cb-409c-a5f1-3e27262797fc"
      },
      "execution_count": null,
      "outputs": [
        {
          "output_type": "stream",
          "name": "stdout",
          "text": [
            "a dan b bernilai sama\n"
          ]
        }
      ]
    },
    {
      "cell_type": "code",
      "source": [
        "#membaca dua angka\n",
        "bil1 = int(input(\"Masukkan bilangan pertama\"))\n",
        "bil2 = int(input(\"Masukkan bilangan kedua\"))\n",
        "\n",
        "#Memilih blangan yang lebih besar\n",
        "if bil1 > bil2:\n",
        "  bil_lebih_besar = bil1\n",
        "else:\n",
        "  bil_lebih_besar = bil2\n",
        "\n",
        "#Menampilkan hasil\n",
        "print(\"Bilangan yang lebih besar adalah:\", bil_lebih_besar)"
      ],
      "metadata": {
        "colab": {
          "base_uri": "https://localhost:8080/"
        },
        "id": "amBlsNt6cg-e",
        "outputId": "b4087ab9-fa97-4407-b941-739c09e2b9c5"
      },
      "execution_count": null,
      "outputs": [
        {
          "output_type": "stream",
          "name": "stdout",
          "text": [
            "Masukkan bilangan pertama7\n",
            "Masukkan bilangan kedua8\n",
            "Bilangan yang lebih besar adalah: 8\n"
          ]
        }
      ]
    },
    {
      "cell_type": "markdown",
      "source": [
        "# IF ELIF ELSE Statments"
      ],
      "metadata": {
        "id": "kA5Kd2NxgO8T"
      }
    },
    {
      "cell_type": "code",
      "source": [
        "if test expression:\n",
        "  Body of if\n",
        "elif test expression:\n",
        "  Body of elif\n",
        "else:\n",
        "  Bod of else"
      ],
      "metadata": {
        "id": "aCnsCVTddnp4"
      },
      "execution_count": null,
      "outputs": []
    },
    {
      "cell_type": "markdown",
      "source": [
        "# Argumen"
      ],
      "metadata": {
        "id": "oO9UrPFtrvQj"
      }
    },
    {
      "cell_type": "markdown",
      "source": [
        "Fungsi dapat memiliki argumen default dengan nilai yang telah ditentukansebelumnya. Argumen ini dapat ditinggalkan dan nilai default kemudian diteruskan ke fungsi, atau argumen dapat dirubah dengan nilai yang berbeda. Perhatikan bahwa argumen default harus ditentukan sebagai parameter terakhir dalam suatu fungsi."
      ],
      "metadata": {
        "id": "O2JHPAsvSDH0"
      }
    },
    {
      "cell_type": "code",
      "source": [
        "#Argumen default\n",
        "def angka2(a, b, c, d=4):\n",
        "    print(a, b, c, d)\n",
        "\n",
        "angka2(1, 2, 3, 4)\n",
        "angka2(1, b=2, c=3, d=100)\n",
        "angka2(1,2,3)\n",
        "\n",
        "\n",
        "#Argumen default harus diletakkan terakhir"
      ],
      "metadata": {
        "colab": {
          "base_uri": "https://localhost:8080/"
        },
        "id": "hWeTk4qYr0mS",
        "outputId": "165b9e27-190a-4d0c-eeb2-06ef5479ce62"
      },
      "execution_count": null,
      "outputs": [
        {
          "output_type": "stream",
          "name": "stdout",
          "text": [
            "1 2 3 4\n",
            "1 2 3 100\n",
            "1 2 3 4\n"
          ]
        }
      ]
    },
    {
      "cell_type": "markdown",
      "source": [
        "#Parameter"
      ],
      "metadata": {
        "id": "0_oyQ8HBUocj"
      }
    },
    {
      "cell_type": "markdown",
      "source": [
        "- Parameter adalah variable yang digunakan dalam deklarasi fungsi\n",
        "- Argumen adlah nilai yang diberikan saat pemanggilan fungsi"
      ],
      "metadata": {
        "id": "mtmZxarxUDkV"
      }
    },
    {
      "cell_type": "code",
      "source": [
        "def data_nama(nama): #'nama' adalah parameter karena terletak di dalam fungsi\n",
        "    print(nama)\n",
        "    \n",
        "data_nama('Dhea') #'Dhea' adalah argumen"
      ],
      "metadata": {
        "colab": {
          "base_uri": "https://localhost:8080/"
        },
        "id": "0JeDUI9KUCge",
        "outputId": "b46fe96f-e322-4f2f-a8ce-b63ec64c44d0"
      },
      "execution_count": 51,
      "outputs": [
        {
          "output_type": "stream",
          "name": "stdout",
          "text": [
            "Dhea\n"
          ]
        }
      ]
    },
    {
      "cell_type": "markdown",
      "source": [
        "#Argumen Posisi dan Argumen Kata Kunci"
      ],
      "metadata": {
        "id": "8OSFeYfGV9kj"
      }
    },
    {
      "cell_type": "markdown",
      "source": [
        "Kita bisa menyatakan argumen posisi atau argumen kata kunci. Beberapa manfaat argumen kata kunci dapat berupa:\n",
        "- Kita dapat menyebut arumen dengan mereka (a,b,c) untuk pemperjelas apa yang merekan wakili\n",
        "- Kita dapat mengatur ulaang argumen denga cara mrmbuatnya paling mudah dibaca"
      ],
      "metadata": {
        "id": "vEc8BkteWLF9"
      }
    },
    {
      "cell_type": "code",
      "source": [
        "def angka(a, b, c):\n",
        "  print(a, b, c)\n",
        "\n",
        "#Argumen posisi\n",
        "#argumen berdasarkan posisi\n",
        "angka(1, 2, 3)\n",
        "\n",
        "#argumen berdasarkan kata kuncinya\n",
        "angka(a=1, b=2, c=3)\n",
        "angka(c=3, b=2, a=1)\n",
        "#catatan jika sudah diberi kunci maka urutan tidak menjadi penting\n",
        "\n",
        "#campuran antara argjmen posisi dan argumen kata kunci\n",
        "angka(1, b=2, c=3)\n",
        "\n",
        "#ini tidak diijinkan:\n",
        "#foo(1, b=2, 3) #argumen posisional setelah argumen kunci\n",
        "#foo(1, b=2, a=3) #terdapat dua nilai untuk argumen kunci 'a'"
      ],
      "metadata": {
        "colab": {
          "base_uri": "https://localhost:8080/"
        },
        "id": "tZmyZ8jXWJkL",
        "outputId": "90350122-64e0-48d8-998c-f7d87f95ea9f"
      },
      "execution_count": null,
      "outputs": [
        {
          "output_type": "stream",
          "name": "stdout",
          "text": [
            "1 2 3\n",
            "1 2 3\n",
            "1 2 3\n",
            "1 2 3\n"
          ]
        }
      ]
    },
    {
      "cell_type": "markdown",
      "source": [
        "# Praktik Membuat Fungsi"
      ],
      "metadata": {
        "id": "Ggxx6M-bsKGA"
      }
    },
    {
      "cell_type": "code",
      "source": [
        "x = 1\n",
        "y = 2\n",
        "x+y"
      ],
      "metadata": {
        "colab": {
          "base_uri": "https://localhost:8080/"
        },
        "id": "mu6OB5TwsFGW",
        "outputId": "b3d3afa4-15a7-40dd-b462-fa5e03afc80a"
      },
      "execution_count": null,
      "outputs": [
        {
          "output_type": "execute_result",
          "data": {
            "text/plain": [
              "3"
            ]
          },
          "metadata": {},
          "execution_count": 2
        }
      ]
    },
    {
      "cell_type": "code",
      "source": [
        "def penjumlahan(x,y): #input\n",
        "  a=x+y               #proses\n",
        "  return a           #output\n",
        "\n",
        "  penjumlahan(1, 2)   #menggunakan fungsi"
      ],
      "metadata": {
        "id": "KeDkAMxlsT2I"
      },
      "execution_count": null,
      "outputs": []
    },
    {
      "cell_type": "markdown",
      "source": [
        "Penjumlahan yang memungkinkan untuk tiga bilangan"
      ],
      "metadata": {
        "id": "5CrB1CMjZPYU"
      }
    },
    {
      "cell_type": "code",
      "source": [
        "def penjumlahan(x,y,z=None):\n",
        "  if (z==None):\n",
        "      return x+y\n",
        "  else:\n",
        "      return x+y+z\n",
        "\n",
        "print(penjumlahan(1, 2))\n",
        "print(penjumlahan(1, 2, 3))"
      ],
      "metadata": {
        "colab": {
          "base_uri": "https://localhost:8080/"
        },
        "id": "6X0PkGR9ZOJe",
        "outputId": "43abf539-20e4-4181-cb33-6082ae8a5f5f"
      },
      "execution_count": null,
      "outputs": [
        {
          "output_type": "stream",
          "name": "stdout",
          "text": [
            "3\n",
            "6\n"
          ]
        }
      ]
    },
    {
      "cell_type": "markdown",
      "source": [
        "menyimpan hasil fungsi dalam variabel"
      ],
      "metadata": {
        "id": "r10JRtGJaPnH"
      }
    },
    {
      "cell_type": "code",
      "source": [
        "def penjumlahan(x,y):\n",
        "    return x+y\n",
        "\n",
        "a = penjumlahan\n",
        "a(1, 2)"
      ],
      "metadata": {
        "colab": {
          "base_uri": "https://localhost:8080/"
        },
        "id": "VejTdXJKaQ5Z",
        "outputId": "fc64292f-b0d2-43c2-ef95-6b95d9122b1e"
      },
      "execution_count": null,
      "outputs": [
        {
          "output_type": "execute_result",
          "data": {
            "text/plain": [
              "3"
            ]
          },
          "metadata": {},
          "execution_count": 12
        }
      ]
    },
    {
      "cell_type": "markdown",
      "source": [
        "# Penjumlahan yang memungkinkan untuk tiga bilangan"
      ],
      "metadata": {
        "id": "adAzA3uOtEqb"
      }
    },
    {
      "cell_type": "code",
      "source": [
        "def penjumlahan(x,y,z=None)\n",
        "    if (Z==None):\n",
        "          return x+y\n",
        "    else:\n",
        "          return x+y+z\n",
        "\n",
        "print(penjumlahan(1, 2))\n",
        "print(penjumlahan(1, 2, 3))"
      ],
      "metadata": {
        "id": "w82pvZvcssgU"
      },
      "execution_count": null,
      "outputs": []
    },
    {
      "cell_type": "code",
      "source": [
        "def penjumlahan(x,y):\n",
        "    return x+y\n",
        "\n",
        "a = penjumlahan\n",
        "a(1, 2)"
      ],
      "metadata": {
        "colab": {
          "base_uri": "https://localhost:8080/"
        },
        "id": "pQVI3U9atyBq",
        "outputId": "3ec3632a-ad3c-4b98-80a5-6922466fa489"
      },
      "execution_count": null,
      "outputs": [
        {
          "output_type": "execute_result",
          "data": {
            "text/plain": [
              "3"
            ]
          },
          "metadata": {},
          "execution_count": 6
        }
      ]
    },
    {
      "cell_type": "markdown",
      "source": [
        "# Lambda"
      ],
      "metadata": {
        "id": "0zUdFNO6uMqL"
      }
    },
    {
      "cell_type": "markdown",
      "source": [
        "Fungsi Lambda adlah fungsi yang didefinisikan tanpa nama. Fungsi lambda dapat mengambil sejumlah arguments, tetapi hanya dapat memiliki satu expression. sementara fungsi normal dapat didefinisikan menggunakan kata kunci def, dalam Python fungsi anonym didefinisikan menggunakan kata kunci lambda.\n",
        "\n",
        "Fungsi Lambda digunakan ketika fungsi sederhana hanya digunakan seKali atauuntuk waktu yang singkatdalam kode kita. Penggunaaanya yang paling umum adalah sebagai argumen untuk fungsi tingkat tinggi(fungsi yang menggunakn fungsi lain sebagia argumen).\n",
        "\n",
        "Lambda expression di Python adalah sebuah ekspresi untuk membuat fungsi.\n",
        "\n",
        "Lambda sendiri berasal dari teori kalkulus, yakni Lambda Calculus yang dikenalkan oleh Alonzo Church di tahun 1930.\n",
        "\n",
        "Berkat lambda, kita bisa membuat fungsi tanpa nama atau dikenal juga dengan anonymous fungction.\n",
        "\n",
        "\n",
        "Misalkan kita punya fungsi penjumlahan kuadrat seperti ini:"
      ],
      "metadata": {
        "id": "GBk5nfmGa1Z4"
      }
    },
    {
      "cell_type": "code",
      "source": [
        "def suqare_sum(x,y):\n",
        "  return x**2 + y**2"
      ],
      "metadata": {
        "id": "bl9FmBheuIKD"
      },
      "execution_count": null,
      "outputs": []
    },
    {
      "cell_type": "markdown",
      "source": [
        "dengan lambda kita tidak perlu menggunakan def dan return, bahkan kita juga tidak perlu menuliskan namanya."
      ],
      "metadata": {
        "id": "rfYGbDW6c8vD"
      }
    },
    {
      "cell_type": "code",
      "source": [
        "lambda x,y : x**2 + y**2"
      ],
      "metadata": {
        "colab": {
          "base_uri": "https://localhost:8080/"
        },
        "id": "tFHQc4-jvj7k",
        "outputId": "77743e61-95b2-46ae-e445-787c92705f3f"
      },
      "execution_count": null,
      "outputs": [
        {
          "output_type": "execute_result",
          "data": {
            "text/plain": [
              "<function __main__.<lambda>(x, y)>"
            ]
          },
          "metadata": {},
          "execution_count": 8
        }
      ]
    },
    {
      "cell_type": "markdown",
      "source": [
        "# Menggunakan Lambda Expression"
      ],
      "metadata": {
        "id": "Kfl0-liVvwyT"
      }
    },
    {
      "cell_type": "code",
      "source": [
        "greeting = lambda name: print(f\"hello, {name}\")"
      ],
      "metadata": {
        "id": "3fbS6iFovriu"
      },
      "execution_count": null,
      "outputs": []
    },
    {
      "cell_type": "code",
      "source": [
        "greeting(\"Dian\")\n",
        "greeting(\"Ayu\")"
      ],
      "metadata": {
        "id": "J9jaHqsMwvkM"
      },
      "execution_count": null,
      "outputs": []
    },
    {
      "cell_type": "code",
      "source": [
        "#Fungsi Lambda untuk menambahkan angka 10 kepada argumen input\n",
        "f = lambda x: x+10\n",
        "val1 = f(5)\n",
        "val2 = f(100)\n",
        "print(val1,val2)"
      ],
      "metadata": {
        "colab": {
          "base_uri": "https://localhost:8080/"
        },
        "id": "058kQwzqw18m",
        "outputId": "09f39319-c25b-4501-ce93-94de8a27adc5"
      },
      "execution_count": null,
      "outputs": [
        {
          "output_type": "stream",
          "name": "stdout",
          "text": [
            "15 110\n"
          ]
        }
      ]
    },
    {
      "cell_type": "code",
      "source": [
        "#Fungsi Lambda untuk mengalikan dua argumen input dan menampilkan dua argumen input dan menampilkan hasilnya\n",
        "f = lambda x,y:x*y\n",
        "val3 = f(2,10)\n",
        "val4 = f(7,5)\n",
        "print(val3,val4)"
      ],
      "metadata": {
        "colab": {
          "base_uri": "https://localhost:8080/"
        },
        "id": "uju-JkYtyYGo",
        "outputId": "54be036e-eaec-49ee-df7c-0f9fdb4be065"
      },
      "execution_count": null,
      "outputs": [
        {
          "output_type": "stream",
          "name": "stdout",
          "text": [
            "20 35\n"
          ]
        }
      ]
    },
    {
      "cell_type": "markdown",
      "source": [
        "#Function"
      ],
      "metadata": {
        "id": "VO66w5vcfpqw"
      }
    },
    {
      "cell_type": "markdown",
      "source": [
        "Function (fungsi) adalash sebuah blok statment yang hanya akan dijalankan saat ia panggil."
      ],
      "metadata": {
        "id": "oVrekLUTfu44"
      }
    },
    {
      "cell_type": "code",
      "source": [
        "def nama_fungsi(argument):\n",
        "  statment_1\n",
        "  -\n",
        "  statment_n\n",
        "  return returned_value"
      ],
      "metadata": {
        "id": "6dsV2fELf8FO"
      },
      "execution_count": null,
      "outputs": []
    },
    {
      "cell_type": "markdown",
      "source": [
        "- nama fungsi adalah untuk fungsi yang anda definisikan, memiliki aturan seperti penamaan variable\n",
        "- argumen adalah variable masukan ke fungsi, biasa tanpa ariabel, satu variable atau lebih\n",
        "- statment_1_statment_n adlah algoritma yang telah anda tranfer dalam bahasa python yang merupakan inti dari seluruh statment adlah menjorok (indent) ke dala seperti yang pernah anda pelajari dari conditioning dan looping\n",
        "- return_value adalah variabel output dan fungsi anda, bisa tanpa variable, satu variabel atau lebih"
      ],
      "metadata": {
        "id": "UM38sKWIgbrX"
      }
    },
    {
      "cell_type": "markdown",
      "source": [
        "# Anonymous Function"
      ],
      "metadata": {
        "id": "s0tPYSPmy8-3"
      }
    },
    {
      "cell_type": "code",
      "source": [
        "def say_hello(Dhea):\n",
        "  print(f\"hello{Dhea}, apa kabar?\")\n",
        "\n",
        "  ucapin = say_hello(Dhea)"
      ],
      "metadata": {
        "id": "w0YGWw4Oy4UH"
      },
      "execution_count": 44,
      "outputs": []
    },
    {
      "cell_type": "markdown",
      "source": [
        "# Eksekusi Lambda secara Langsung"
      ],
      "metadata": {
        "id": "0qis-Mw50WYp"
      }
    },
    {
      "cell_type": "code",
      "source": [
        "(lambda x,y: x**2 + y**2)(4,6)"
      ],
      "metadata": {
        "colab": {
          "base_uri": "https://localhost:8080/"
        },
        "id": "Dm-yE_AFzS1x",
        "outputId": "8f65853a-af23-4e57-e701-2a698e5da74e"
      },
      "execution_count": null,
      "outputs": [
        {
          "output_type": "execute_result",
          "data": {
            "text/plain": [
              "52"
            ]
          },
          "metadata": {},
          "execution_count": 17
        }
      ]
    },
    {
      "cell_type": "markdown",
      "source": [
        "# Mengapa Harus Pakai Lambda"
      ],
      "metadata": {
        "id": "QmQwcov-1CXo"
      }
    },
    {
      "cell_type": "code",
      "source": [
        "bilangan = [10,2,8,7,5,4,3,11,0,1]\n",
        "filtered_result = map (lambda x: x*x, bilangan)\n",
        "print(list(filtered_result))"
      ],
      "metadata": {
        "colab": {
          "base_uri": "https://localhost:8080/"
        },
        "id": "CiaU5AaC0nK4",
        "outputId": "4de2f903-07ab-4f52-e324-b23c4eefde72"
      },
      "execution_count": null,
      "outputs": [
        {
          "output_type": "stream",
          "name": "stdout",
          "text": [
            "[100, 4, 64, 49, 25, 16, 9, 121, 0, 1]\n"
          ]
        }
      ]
    },
    {
      "cell_type": "code",
      "source": [
        "#Menentukan bilangan genap\n",
        "genap = lambda x: x%2 == 0\n",
        "list(filter(genap, range(11)))"
      ],
      "metadata": {
        "colab": {
          "base_uri": "https://localhost:8080/"
        },
        "id": "fFrAMOhg1wcM",
        "outputId": "d9aedd80-739b-4104-9888-446ad7e86e25"
      },
      "execution_count": null,
      "outputs": [
        {
          "output_type": "execute_result",
          "data": {
            "text/plain": [
              "[0, 2, 4, 6, 8, 10]"
            ]
          },
          "metadata": {},
          "execution_count": 20
        }
      ]
    },
    {
      "cell_type": "markdown",
      "source": [
        "# DataFrame"
      ],
      "metadata": {
        "id": "aBEmJJfwhaZK"
      }
    },
    {
      "cell_type": "code",
      "source": [
        "import pandas as pd"
      ],
      "metadata": {
        "id": "wdKjSjJlg7_M"
      },
      "execution_count": 20,
      "outputs": []
    },
    {
      "cell_type": "markdown",
      "source": [
        "Membuat Data Frame Menggunakan List dan Fungsi Zip"
      ],
      "metadata": {
        "id": "ccU1IvMQdJoH"
      }
    },
    {
      "cell_type": "code",
      "source": [
        "# List Buah (string)\n",
        "list_buah = ['Naga', 'Durian', 'Mangga', 'Rambutan', 'Anggur', 'Semangka', 'Manggis']\n",
        "\n",
        "# List Berat Buah (Integer)\n",
        "list_berat = [50, 800, 150, 10, 2, 300, 70]\n",
        "\n",
        "# Membuat dataframe menggunakan Dua Nuah List dengan Fungsi Zip\n",
        "df = pd.DataFrame(list(zip(list_buah, list_berat)),\n",
        "                  columns = ['nama buah','berat buah'])\n",
        "df"
      ],
      "metadata": {
        "colab": {
          "base_uri": "https://localhost:8080/",
          "height": 269
        },
        "id": "izQjB2PhdSRc",
        "outputId": "18670cb5-8462-4bcb-c232-210cc8af5887"
      },
      "execution_count": 43,
      "outputs": [
        {
          "output_type": "execute_result",
          "data": {
            "text/plain": [
              "  nama buah  berat buah\n",
              "0      Naga          50\n",
              "1    Durian         800\n",
              "2    Mangga         150\n",
              "3  Rambutan          10\n",
              "4    Anggur           2\n",
              "5  Semangka         300\n",
              "6   Manggis          70"
            ],
            "text/html": [
              "\n",
              "  <div id=\"df-c3c16eab-2565-4e7a-8a27-50f649658017\">\n",
              "    <div class=\"colab-df-container\">\n",
              "      <div>\n",
              "<style scoped>\n",
              "    .dataframe tbody tr th:only-of-type {\n",
              "        vertical-align: middle;\n",
              "    }\n",
              "\n",
              "    .dataframe tbody tr th {\n",
              "        vertical-align: top;\n",
              "    }\n",
              "\n",
              "    .dataframe thead th {\n",
              "        text-align: right;\n",
              "    }\n",
              "</style>\n",
              "<table border=\"1\" class=\"dataframe\">\n",
              "  <thead>\n",
              "    <tr style=\"text-align: right;\">\n",
              "      <th></th>\n",
              "      <th>nama buah</th>\n",
              "      <th>berat buah</th>\n",
              "    </tr>\n",
              "  </thead>\n",
              "  <tbody>\n",
              "    <tr>\n",
              "      <th>0</th>\n",
              "      <td>Naga</td>\n",
              "      <td>50</td>\n",
              "    </tr>\n",
              "    <tr>\n",
              "      <th>1</th>\n",
              "      <td>Durian</td>\n",
              "      <td>800</td>\n",
              "    </tr>\n",
              "    <tr>\n",
              "      <th>2</th>\n",
              "      <td>Mangga</td>\n",
              "      <td>150</td>\n",
              "    </tr>\n",
              "    <tr>\n",
              "      <th>3</th>\n",
              "      <td>Rambutan</td>\n",
              "      <td>10</td>\n",
              "    </tr>\n",
              "    <tr>\n",
              "      <th>4</th>\n",
              "      <td>Anggur</td>\n",
              "      <td>2</td>\n",
              "    </tr>\n",
              "    <tr>\n",
              "      <th>5</th>\n",
              "      <td>Semangka</td>\n",
              "      <td>300</td>\n",
              "    </tr>\n",
              "    <tr>\n",
              "      <th>6</th>\n",
              "      <td>Manggis</td>\n",
              "      <td>70</td>\n",
              "    </tr>\n",
              "  </tbody>\n",
              "</table>\n",
              "</div>\n",
              "      <button class=\"colab-df-convert\" onclick=\"convertToInteractive('df-c3c16eab-2565-4e7a-8a27-50f649658017')\"\n",
              "              title=\"Convert this dataframe to an interactive table.\"\n",
              "              style=\"display:none;\">\n",
              "        \n",
              "  <svg xmlns=\"http://www.w3.org/2000/svg\" height=\"24px\"viewBox=\"0 0 24 24\"\n",
              "       width=\"24px\">\n",
              "    <path d=\"M0 0h24v24H0V0z\" fill=\"none\"/>\n",
              "    <path d=\"M18.56 5.44l.94 2.06.94-2.06 2.06-.94-2.06-.94-.94-2.06-.94 2.06-2.06.94zm-11 1L8.5 8.5l.94-2.06 2.06-.94-2.06-.94L8.5 2.5l-.94 2.06-2.06.94zm10 10l.94 2.06.94-2.06 2.06-.94-2.06-.94-.94-2.06-.94 2.06-2.06.94z\"/><path d=\"M17.41 7.96l-1.37-1.37c-.4-.4-.92-.59-1.43-.59-.52 0-1.04.2-1.43.59L10.3 9.45l-7.72 7.72c-.78.78-.78 2.05 0 2.83L4 21.41c.39.39.9.59 1.41.59.51 0 1.02-.2 1.41-.59l7.78-7.78 2.81-2.81c.8-.78.8-2.07 0-2.86zM5.41 20L4 18.59l7.72-7.72 1.47 1.35L5.41 20z\"/>\n",
              "  </svg>\n",
              "      </button>\n",
              "      \n",
              "  <style>\n",
              "    .colab-df-container {\n",
              "      display:flex;\n",
              "      flex-wrap:wrap;\n",
              "      gap: 12px;\n",
              "    }\n",
              "\n",
              "    .colab-df-convert {\n",
              "      background-color: #E8F0FE;\n",
              "      border: none;\n",
              "      border-radius: 50%;\n",
              "      cursor: pointer;\n",
              "      display: none;\n",
              "      fill: #1967D2;\n",
              "      height: 32px;\n",
              "      padding: 0 0 0 0;\n",
              "      width: 32px;\n",
              "    }\n",
              "\n",
              "    .colab-df-convert:hover {\n",
              "      background-color: #E2EBFA;\n",
              "      box-shadow: 0px 1px 2px rgba(60, 64, 67, 0.3), 0px 1px 3px 1px rgba(60, 64, 67, 0.15);\n",
              "      fill: #174EA6;\n",
              "    }\n",
              "\n",
              "    [theme=dark] .colab-df-convert {\n",
              "      background-color: #3B4455;\n",
              "      fill: #D2E3FC;\n",
              "    }\n",
              "\n",
              "    [theme=dark] .colab-df-convert:hover {\n",
              "      background-color: #434B5C;\n",
              "      box-shadow: 0px 1px 3px 1px rgba(0, 0, 0, 0.15);\n",
              "      filter: drop-shadow(0px 1px 2px rgba(0, 0, 0, 0.3));\n",
              "      fill: #FFFFFF;\n",
              "    }\n",
              "  </style>\n",
              "\n",
              "      <script>\n",
              "        const buttonEl =\n",
              "          document.querySelector('#df-c3c16eab-2565-4e7a-8a27-50f649658017 button.colab-df-convert');\n",
              "        buttonEl.style.display =\n",
              "          google.colab.kernel.accessAllowed ? 'block' : 'none';\n",
              "\n",
              "        async function convertToInteractive(key) {\n",
              "          const element = document.querySelector('#df-c3c16eab-2565-4e7a-8a27-50f649658017');\n",
              "          const dataTable =\n",
              "            await google.colab.kernel.invokeFunction('convertToInteractive',\n",
              "                                                     [key], {});\n",
              "          if (!dataTable) return;\n",
              "\n",
              "          const docLinkHtml = 'Like what you see? Visit the ' +\n",
              "            '<a target=\"_blank\" href=https://colab.research.google.com/notebooks/data_table.ipynb>data table notebook</a>'\n",
              "            + ' to learn more about interactive tables.';\n",
              "          element.innerHTML = '';\n",
              "          dataTable['output_type'] = 'display_data';\n",
              "          await google.colab.output.renderOutput(dataTable, element);\n",
              "          const docLink = document.createElement('div');\n",
              "          docLink.innerHTML = docLinkHtml;\n",
              "          element.appendChild(docLink);\n",
              "        }\n",
              "      </script>\n",
              "    </div>\n",
              "  </div>\n",
              "  "
            ]
          },
          "metadata": {},
          "execution_count": 43
        }
      ]
    },
    {
      "cell_type": "markdown",
      "source": [
        "Membuat DataFrame Menggunakan List Multidimensi"
      ],
      "metadata": {
        "id": "iIAWXK0GedkK"
      }
    },
    {
      "cell_type": "code",
      "source": [
        "# List Multidimensi (Nama, Usia)\n",
        "lst = [['Killua', 19], ['Muichiro', 18],\n",
        "       ['Hiroto', 20], ['Chinen', 16]]\n",
        "\n",
        "df = pd.DataFrame(lst, columns =['Nama', 'Usia'])\n",
        "df"
      ],
      "metadata": {
        "id": "3RxS61PTecfx",
        "colab": {
          "base_uri": "https://localhost:8080/",
          "height": 175
        },
        "outputId": "cabbb3a2-496c-49b1-e1ff-9928f88601da"
      },
      "execution_count": 41,
      "outputs": [
        {
          "output_type": "execute_result",
          "data": {
            "text/plain": [
              "       Nama  Usia\n",
              "0    Killua    19\n",
              "1  Muichiro    18\n",
              "2    Hiroto    20\n",
              "3    Chinen    16"
            ],
            "text/html": [
              "\n",
              "  <div id=\"df-448d3fba-5b4d-410b-a292-912de2df5db4\">\n",
              "    <div class=\"colab-df-container\">\n",
              "      <div>\n",
              "<style scoped>\n",
              "    .dataframe tbody tr th:only-of-type {\n",
              "        vertical-align: middle;\n",
              "    }\n",
              "\n",
              "    .dataframe tbody tr th {\n",
              "        vertical-align: top;\n",
              "    }\n",
              "\n",
              "    .dataframe thead th {\n",
              "        text-align: right;\n",
              "    }\n",
              "</style>\n",
              "<table border=\"1\" class=\"dataframe\">\n",
              "  <thead>\n",
              "    <tr style=\"text-align: right;\">\n",
              "      <th></th>\n",
              "      <th>Nama</th>\n",
              "      <th>Usia</th>\n",
              "    </tr>\n",
              "  </thead>\n",
              "  <tbody>\n",
              "    <tr>\n",
              "      <th>0</th>\n",
              "      <td>Killua</td>\n",
              "      <td>19</td>\n",
              "    </tr>\n",
              "    <tr>\n",
              "      <th>1</th>\n",
              "      <td>Muichiro</td>\n",
              "      <td>18</td>\n",
              "    </tr>\n",
              "    <tr>\n",
              "      <th>2</th>\n",
              "      <td>Hiroto</td>\n",
              "      <td>20</td>\n",
              "    </tr>\n",
              "    <tr>\n",
              "      <th>3</th>\n",
              "      <td>Chinen</td>\n",
              "      <td>16</td>\n",
              "    </tr>\n",
              "  </tbody>\n",
              "</table>\n",
              "</div>\n",
              "      <button class=\"colab-df-convert\" onclick=\"convertToInteractive('df-448d3fba-5b4d-410b-a292-912de2df5db4')\"\n",
              "              title=\"Convert this dataframe to an interactive table.\"\n",
              "              style=\"display:none;\">\n",
              "        \n",
              "  <svg xmlns=\"http://www.w3.org/2000/svg\" height=\"24px\"viewBox=\"0 0 24 24\"\n",
              "       width=\"24px\">\n",
              "    <path d=\"M0 0h24v24H0V0z\" fill=\"none\"/>\n",
              "    <path d=\"M18.56 5.44l.94 2.06.94-2.06 2.06-.94-2.06-.94-.94-2.06-.94 2.06-2.06.94zm-11 1L8.5 8.5l.94-2.06 2.06-.94-2.06-.94L8.5 2.5l-.94 2.06-2.06.94zm10 10l.94 2.06.94-2.06 2.06-.94-2.06-.94-.94-2.06-.94 2.06-2.06.94z\"/><path d=\"M17.41 7.96l-1.37-1.37c-.4-.4-.92-.59-1.43-.59-.52 0-1.04.2-1.43.59L10.3 9.45l-7.72 7.72c-.78.78-.78 2.05 0 2.83L4 21.41c.39.39.9.59 1.41.59.51 0 1.02-.2 1.41-.59l7.78-7.78 2.81-2.81c.8-.78.8-2.07 0-2.86zM5.41 20L4 18.59l7.72-7.72 1.47 1.35L5.41 20z\"/>\n",
              "  </svg>\n",
              "      </button>\n",
              "      \n",
              "  <style>\n",
              "    .colab-df-container {\n",
              "      display:flex;\n",
              "      flex-wrap:wrap;\n",
              "      gap: 12px;\n",
              "    }\n",
              "\n",
              "    .colab-df-convert {\n",
              "      background-color: #E8F0FE;\n",
              "      border: none;\n",
              "      border-radius: 50%;\n",
              "      cursor: pointer;\n",
              "      display: none;\n",
              "      fill: #1967D2;\n",
              "      height: 32px;\n",
              "      padding: 0 0 0 0;\n",
              "      width: 32px;\n",
              "    }\n",
              "\n",
              "    .colab-df-convert:hover {\n",
              "      background-color: #E2EBFA;\n",
              "      box-shadow: 0px 1px 2px rgba(60, 64, 67, 0.3), 0px 1px 3px 1px rgba(60, 64, 67, 0.15);\n",
              "      fill: #174EA6;\n",
              "    }\n",
              "\n",
              "    [theme=dark] .colab-df-convert {\n",
              "      background-color: #3B4455;\n",
              "      fill: #D2E3FC;\n",
              "    }\n",
              "\n",
              "    [theme=dark] .colab-df-convert:hover {\n",
              "      background-color: #434B5C;\n",
              "      box-shadow: 0px 1px 3px 1px rgba(0, 0, 0, 0.15);\n",
              "      filter: drop-shadow(0px 1px 2px rgba(0, 0, 0, 0.3));\n",
              "      fill: #FFFFFF;\n",
              "    }\n",
              "  </style>\n",
              "\n",
              "      <script>\n",
              "        const buttonEl =\n",
              "          document.querySelector('#df-448d3fba-5b4d-410b-a292-912de2df5db4 button.colab-df-convert');\n",
              "        buttonEl.style.display =\n",
              "          google.colab.kernel.accessAllowed ? 'block' : 'none';\n",
              "\n",
              "        async function convertToInteractive(key) {\n",
              "          const element = document.querySelector('#df-448d3fba-5b4d-410b-a292-912de2df5db4');\n",
              "          const dataTable =\n",
              "            await google.colab.kernel.invokeFunction('convertToInteractive',\n",
              "                                                     [key], {});\n",
              "          if (!dataTable) return;\n",
              "\n",
              "          const docLinkHtml = 'Like what you see? Visit the ' +\n",
              "            '<a target=\"_blank\" href=https://colab.research.google.com/notebooks/data_table.ipynb>data table notebook</a>'\n",
              "            + ' to learn more about interactive tables.';\n",
              "          element.innerHTML = '';\n",
              "          dataTable['output_type'] = 'display_data';\n",
              "          await google.colab.output.renderOutput(dataTable, element);\n",
              "          const docLink = document.createElement('div');\n",
              "          docLink.innerHTML = docLinkHtml;\n",
              "          element.appendChild(docLink);\n",
              "        }\n",
              "      </script>\n",
              "    </div>\n",
              "  </div>\n",
              "  "
            ]
          },
          "metadata": {},
          "execution_count": 41
        }
      ]
    },
    {
      "cell_type": "markdown",
      "source": [
        "Membuat dataframe menggunakan dictionary"
      ],
      "metadata": {
        "id": "8gpEtDw0ftjf"
      }
    },
    {
      "cell_type": "code",
      "source": [
        "mobil = {'Type Mobil': ['Honda Civic', 'Toyota Corolla', 'Ford Focus', 'Audi A4'],\n",
        "         'Harga(USD)': [22000,25000,27000,35000]\n",
        "         }\n",
        "df = pd.DataFrame(mobil)\n",
        "\n",
        "df"
      ],
      "metadata": {
        "colab": {
          "base_uri": "https://localhost:8080/",
          "height": 175
        },
        "id": "9cPoXzRzfJuS",
        "outputId": "02b2c9d9-a893-42e1-a7af-dc2868caf1d6"
      },
      "execution_count": null,
      "outputs": [
        {
          "output_type": "execute_result",
          "data": {
            "text/plain": [
              "       Type Mobil  Harga(USD)\n",
              "0     Honda Civic       22000\n",
              "1  Toyota Corolla       25000\n",
              "2      Ford Focus       27000\n",
              "3         Audi A4       35000"
            ],
            "text/html": [
              "\n",
              "  <div id=\"df-2cc10e4a-9bad-4329-9fda-6498dfc92892\">\n",
              "    <div class=\"colab-df-container\">\n",
              "      <div>\n",
              "<style scoped>\n",
              "    .dataframe tbody tr th:only-of-type {\n",
              "        vertical-align: middle;\n",
              "    }\n",
              "\n",
              "    .dataframe tbody tr th {\n",
              "        vertical-align: top;\n",
              "    }\n",
              "\n",
              "    .dataframe thead th {\n",
              "        text-align: right;\n",
              "    }\n",
              "</style>\n",
              "<table border=\"1\" class=\"dataframe\">\n",
              "  <thead>\n",
              "    <tr style=\"text-align: right;\">\n",
              "      <th></th>\n",
              "      <th>Type Mobil</th>\n",
              "      <th>Harga(USD)</th>\n",
              "    </tr>\n",
              "  </thead>\n",
              "  <tbody>\n",
              "    <tr>\n",
              "      <th>0</th>\n",
              "      <td>Honda Civic</td>\n",
              "      <td>22000</td>\n",
              "    </tr>\n",
              "    <tr>\n",
              "      <th>1</th>\n",
              "      <td>Toyota Corolla</td>\n",
              "      <td>25000</td>\n",
              "    </tr>\n",
              "    <tr>\n",
              "      <th>2</th>\n",
              "      <td>Ford Focus</td>\n",
              "      <td>27000</td>\n",
              "    </tr>\n",
              "    <tr>\n",
              "      <th>3</th>\n",
              "      <td>Audi A4</td>\n",
              "      <td>35000</td>\n",
              "    </tr>\n",
              "  </tbody>\n",
              "</table>\n",
              "</div>\n",
              "      <button class=\"colab-df-convert\" onclick=\"convertToInteractive('df-2cc10e4a-9bad-4329-9fda-6498dfc92892')\"\n",
              "              title=\"Convert this dataframe to an interactive table.\"\n",
              "              style=\"display:none;\">\n",
              "        \n",
              "  <svg xmlns=\"http://www.w3.org/2000/svg\" height=\"24px\"viewBox=\"0 0 24 24\"\n",
              "       width=\"24px\">\n",
              "    <path d=\"M0 0h24v24H0V0z\" fill=\"none\"/>\n",
              "    <path d=\"M18.56 5.44l.94 2.06.94-2.06 2.06-.94-2.06-.94-.94-2.06-.94 2.06-2.06.94zm-11 1L8.5 8.5l.94-2.06 2.06-.94-2.06-.94L8.5 2.5l-.94 2.06-2.06.94zm10 10l.94 2.06.94-2.06 2.06-.94-2.06-.94-.94-2.06-.94 2.06-2.06.94z\"/><path d=\"M17.41 7.96l-1.37-1.37c-.4-.4-.92-.59-1.43-.59-.52 0-1.04.2-1.43.59L10.3 9.45l-7.72 7.72c-.78.78-.78 2.05 0 2.83L4 21.41c.39.39.9.59 1.41.59.51 0 1.02-.2 1.41-.59l7.78-7.78 2.81-2.81c.8-.78.8-2.07 0-2.86zM5.41 20L4 18.59l7.72-7.72 1.47 1.35L5.41 20z\"/>\n",
              "  </svg>\n",
              "      </button>\n",
              "      \n",
              "  <style>\n",
              "    .colab-df-container {\n",
              "      display:flex;\n",
              "      flex-wrap:wrap;\n",
              "      gap: 12px;\n",
              "    }\n",
              "\n",
              "    .colab-df-convert {\n",
              "      background-color: #E8F0FE;\n",
              "      border: none;\n",
              "      border-radius: 50%;\n",
              "      cursor: pointer;\n",
              "      display: none;\n",
              "      fill: #1967D2;\n",
              "      height: 32px;\n",
              "      padding: 0 0 0 0;\n",
              "      width: 32px;\n",
              "    }\n",
              "\n",
              "    .colab-df-convert:hover {\n",
              "      background-color: #E2EBFA;\n",
              "      box-shadow: 0px 1px 2px rgba(60, 64, 67, 0.3), 0px 1px 3px 1px rgba(60, 64, 67, 0.15);\n",
              "      fill: #174EA6;\n",
              "    }\n",
              "\n",
              "    [theme=dark] .colab-df-convert {\n",
              "      background-color: #3B4455;\n",
              "      fill: #D2E3FC;\n",
              "    }\n",
              "\n",
              "    [theme=dark] .colab-df-convert:hover {\n",
              "      background-color: #434B5C;\n",
              "      box-shadow: 0px 1px 3px 1px rgba(0, 0, 0, 0.15);\n",
              "      filter: drop-shadow(0px 1px 2px rgba(0, 0, 0, 0.3));\n",
              "      fill: #FFFFFF;\n",
              "    }\n",
              "  </style>\n",
              "\n",
              "      <script>\n",
              "        const buttonEl =\n",
              "          document.querySelector('#df-2cc10e4a-9bad-4329-9fda-6498dfc92892 button.colab-df-convert');\n",
              "        buttonEl.style.display =\n",
              "          google.colab.kernel.accessAllowed ? 'block' : 'none';\n",
              "\n",
              "        async function convertToInteractive(key) {\n",
              "          const element = document.querySelector('#df-2cc10e4a-9bad-4329-9fda-6498dfc92892');\n",
              "          const dataTable =\n",
              "            await google.colab.kernel.invokeFunction('convertToInteractive',\n",
              "                                                     [key], {});\n",
              "          if (!dataTable) return;\n",
              "\n",
              "          const docLinkHtml = 'Like what you see? Visit the ' +\n",
              "            '<a target=\"_blank\" href=https://colab.research.google.com/notebooks/data_table.ipynb>data table notebook</a>'\n",
              "            + ' to learn more about interactive tables.';\n",
              "          element.innerHTML = '';\n",
              "          dataTable['output_type'] = 'display_data';\n",
              "          await google.colab.output.renderOutput(dataTable, element);\n",
              "          const docLink = document.createElement('div');\n",
              "          docLink.innerHTML = docLinkHtml;\n",
              "          element.appendChild(docLink);\n",
              "        }\n",
              "      </script>\n",
              "    </div>\n",
              "  </div>\n",
              "  "
            ]
          },
          "metadata": {},
          "execution_count": 5
        }
      ]
    },
    {
      "cell_type": "markdown",
      "source": [
        "#Membuat Data Frame"
      ],
      "metadata": {
        "id": "37LyIFcpiIN6"
      }
    },
    {
      "cell_type": "markdown",
      "source": [
        "Membuat Matriks Menggunakan List"
      ],
      "metadata": {
        "id": "Q60hgv6NiKRi"
      }
    },
    {
      "cell_type": "code",
      "source": [
        "import pandas as pd"
      ],
      "metadata": {
        "id": "cST37N-KkTW2"
      },
      "execution_count": 18,
      "outputs": []
    },
    {
      "cell_type": "code",
      "source": [
        "# List\n",
        "list_buah = ['Naga', 'Durian', 'Mangga', 'Rambutan', 'Anggur', 'Semangka', 'Manggis']\n",
        "\n",
        "# Membuat dataframe menggunakan list_buah\n",
        "df = pd.DataFrame(list_buah)\n",
        "df"
      ],
      "metadata": {
        "id": "UBKduZtDiLHv",
        "colab": {
          "base_uri": "https://localhost:8080/",
          "height": 269
        },
        "outputId": "1ffdcaae-5ee1-4357-9598-4910ae80ccf7"
      },
      "execution_count": 42,
      "outputs": [
        {
          "output_type": "execute_result",
          "data": {
            "text/plain": [
              "          0\n",
              "0      Naga\n",
              "1    Durian\n",
              "2    Mangga\n",
              "3  Rambutan\n",
              "4    Anggur\n",
              "5  Semangka\n",
              "6   Manggis"
            ],
            "text/html": [
              "\n",
              "  <div id=\"df-14cdad91-0a72-4b6f-b191-894b6d1ff604\">\n",
              "    <div class=\"colab-df-container\">\n",
              "      <div>\n",
              "<style scoped>\n",
              "    .dataframe tbody tr th:only-of-type {\n",
              "        vertical-align: middle;\n",
              "    }\n",
              "\n",
              "    .dataframe tbody tr th {\n",
              "        vertical-align: top;\n",
              "    }\n",
              "\n",
              "    .dataframe thead th {\n",
              "        text-align: right;\n",
              "    }\n",
              "</style>\n",
              "<table border=\"1\" class=\"dataframe\">\n",
              "  <thead>\n",
              "    <tr style=\"text-align: right;\">\n",
              "      <th></th>\n",
              "      <th>0</th>\n",
              "    </tr>\n",
              "  </thead>\n",
              "  <tbody>\n",
              "    <tr>\n",
              "      <th>0</th>\n",
              "      <td>Naga</td>\n",
              "    </tr>\n",
              "    <tr>\n",
              "      <th>1</th>\n",
              "      <td>Durian</td>\n",
              "    </tr>\n",
              "    <tr>\n",
              "      <th>2</th>\n",
              "      <td>Mangga</td>\n",
              "    </tr>\n",
              "    <tr>\n",
              "      <th>3</th>\n",
              "      <td>Rambutan</td>\n",
              "    </tr>\n",
              "    <tr>\n",
              "      <th>4</th>\n",
              "      <td>Anggur</td>\n",
              "    </tr>\n",
              "    <tr>\n",
              "      <th>5</th>\n",
              "      <td>Semangka</td>\n",
              "    </tr>\n",
              "    <tr>\n",
              "      <th>6</th>\n",
              "      <td>Manggis</td>\n",
              "    </tr>\n",
              "  </tbody>\n",
              "</table>\n",
              "</div>\n",
              "      <button class=\"colab-df-convert\" onclick=\"convertToInteractive('df-14cdad91-0a72-4b6f-b191-894b6d1ff604')\"\n",
              "              title=\"Convert this dataframe to an interactive table.\"\n",
              "              style=\"display:none;\">\n",
              "        \n",
              "  <svg xmlns=\"http://www.w3.org/2000/svg\" height=\"24px\"viewBox=\"0 0 24 24\"\n",
              "       width=\"24px\">\n",
              "    <path d=\"M0 0h24v24H0V0z\" fill=\"none\"/>\n",
              "    <path d=\"M18.56 5.44l.94 2.06.94-2.06 2.06-.94-2.06-.94-.94-2.06-.94 2.06-2.06.94zm-11 1L8.5 8.5l.94-2.06 2.06-.94-2.06-.94L8.5 2.5l-.94 2.06-2.06.94zm10 10l.94 2.06.94-2.06 2.06-.94-2.06-.94-.94-2.06-.94 2.06-2.06.94z\"/><path d=\"M17.41 7.96l-1.37-1.37c-.4-.4-.92-.59-1.43-.59-.52 0-1.04.2-1.43.59L10.3 9.45l-7.72 7.72c-.78.78-.78 2.05 0 2.83L4 21.41c.39.39.9.59 1.41.59.51 0 1.02-.2 1.41-.59l7.78-7.78 2.81-2.81c.8-.78.8-2.07 0-2.86zM5.41 20L4 18.59l7.72-7.72 1.47 1.35L5.41 20z\"/>\n",
              "  </svg>\n",
              "      </button>\n",
              "      \n",
              "  <style>\n",
              "    .colab-df-container {\n",
              "      display:flex;\n",
              "      flex-wrap:wrap;\n",
              "      gap: 12px;\n",
              "    }\n",
              "\n",
              "    .colab-df-convert {\n",
              "      background-color: #E8F0FE;\n",
              "      border: none;\n",
              "      border-radius: 50%;\n",
              "      cursor: pointer;\n",
              "      display: none;\n",
              "      fill: #1967D2;\n",
              "      height: 32px;\n",
              "      padding: 0 0 0 0;\n",
              "      width: 32px;\n",
              "    }\n",
              "\n",
              "    .colab-df-convert:hover {\n",
              "      background-color: #E2EBFA;\n",
              "      box-shadow: 0px 1px 2px rgba(60, 64, 67, 0.3), 0px 1px 3px 1px rgba(60, 64, 67, 0.15);\n",
              "      fill: #174EA6;\n",
              "    }\n",
              "\n",
              "    [theme=dark] .colab-df-convert {\n",
              "      background-color: #3B4455;\n",
              "      fill: #D2E3FC;\n",
              "    }\n",
              "\n",
              "    [theme=dark] .colab-df-convert:hover {\n",
              "      background-color: #434B5C;\n",
              "      box-shadow: 0px 1px 3px 1px rgba(0, 0, 0, 0.15);\n",
              "      filter: drop-shadow(0px 1px 2px rgba(0, 0, 0, 0.3));\n",
              "      fill: #FFFFFF;\n",
              "    }\n",
              "  </style>\n",
              "\n",
              "      <script>\n",
              "        const buttonEl =\n",
              "          document.querySelector('#df-14cdad91-0a72-4b6f-b191-894b6d1ff604 button.colab-df-convert');\n",
              "        buttonEl.style.display =\n",
              "          google.colab.kernel.accessAllowed ? 'block' : 'none';\n",
              "\n",
              "        async function convertToInteractive(key) {\n",
              "          const element = document.querySelector('#df-14cdad91-0a72-4b6f-b191-894b6d1ff604');\n",
              "          const dataTable =\n",
              "            await google.colab.kernel.invokeFunction('convertToInteractive',\n",
              "                                                     [key], {});\n",
              "          if (!dataTable) return;\n",
              "\n",
              "          const docLinkHtml = 'Like what you see? Visit the ' +\n",
              "            '<a target=\"_blank\" href=https://colab.research.google.com/notebooks/data_table.ipynb>data table notebook</a>'\n",
              "            + ' to learn more about interactive tables.';\n",
              "          element.innerHTML = '';\n",
              "          dataTable['output_type'] = 'display_data';\n",
              "          await google.colab.output.renderOutput(dataTable, element);\n",
              "          const docLink = document.createElement('div');\n",
              "          docLink.innerHTML = docLinkHtml;\n",
              "          element.appendChild(docLink);\n",
              "        }\n",
              "      </script>\n",
              "    </div>\n",
              "  </div>\n",
              "  "
            ]
          },
          "metadata": {},
          "execution_count": 42
        }
      ]
    },
    {
      "cell_type": "markdown",
      "source": [
        "#Import DataFrame dari File CSV"
      ],
      "metadata": {
        "id": "qqZ2wLBMgn8S"
      }
    },
    {
      "cell_type": "code",
      "source": [
        "df_super_store = pd.read_csv('/content/Super-Store-Dataset.csv')\n",
        "df_super_store.head()"
      ],
      "metadata": {
        "id": "En48LCY32AUb"
      },
      "execution_count": null,
      "outputs": []
    },
    {
      "cell_type": "markdown",
      "source": [
        "# Import DataFrame dari Excel"
      ],
      "metadata": {
        "id": "d_ZSR7vBgzcv"
      }
    },
    {
      "cell_type": "code",
      "source": [
        "df_pilkada=pd.read_excel('/content/datasetpilkadadki.xlsx')\n",
        "df_pilkada.head()"
      ],
      "metadata": {
        "id": "gRj5eZyrlnzn"
      },
      "execution_count": null,
      "outputs": []
    },
    {
      "cell_type": "markdown",
      "source": [
        "# NumPy Array"
      ],
      "metadata": {
        "id": "bRD7x8P1mJa1"
      }
    },
    {
      "cell_type": "markdown",
      "source": [
        "Membuat Array NumPy kita bisa membuat array menggunakan NumPy dengan membungkusnya terlebih dahulu du list dan dirubah menjadi numpy array"
      ],
      "metadata": {
        "id": "c4fXKFrNlyzM"
      }
    },
    {
      "cell_type": "code",
      "source": [
        "import numpy as np"
      ],
      "metadata": {
        "id": "yVL98DA0vEPX"
      },
      "execution_count": 24,
      "outputs": []
    },
    {
      "cell_type": "code",
      "source": [
        "list_1 = [1,2,3,4,5]\n",
        "arr_1 = np.array([list_1])\n",
        "arr_1"
      ],
      "metadata": {
        "colab": {
          "base_uri": "https://localhost:8080/"
        },
        "id": "HpDynCvfmEkb",
        "outputId": "5c395023-1caf-4e43-f69d-1d6b3fa12090"
      },
      "execution_count": null,
      "outputs": [
        {
          "output_type": "execute_result",
          "data": {
            "text/plain": [
              "array([[1, 2, 3, 4, 5]])"
            ]
          },
          "metadata": {},
          "execution_count": 25
        }
      ]
    },
    {
      "cell_type": "code",
      "source": [
        "print(np.zeros((2,5))) # membuat array dangan nilai 0 dengan shape (5,5)"
      ],
      "metadata": {
        "colab": {
          "base_uri": "https://localhost:8080/"
        },
        "id": "ffy9dOvqpORD",
        "outputId": "dea23d04-1b29-4041-8649-2cf54b536c03"
      },
      "execution_count": null,
      "outputs": [
        {
          "output_type": "stream",
          "name": "stdout",
          "text": [
            "[[0. 0. 0. 0. 0.]\n",
            " [0. 0. 0. 0. 0.]]\n"
          ]
        }
      ]
    },
    {
      "cell_type": "code",
      "source": [
        "print(np.ones((5,3))) # membuat array dengan nilai 1 dengan shape (5,5)"
      ],
      "metadata": {
        "colab": {
          "base_uri": "https://localhost:8080/"
        },
        "id": "SMOKuQCHqBQf",
        "outputId": "1a4156c4-379c-4999-ae1b-b8c24228b66f"
      },
      "execution_count": null,
      "outputs": [
        {
          "output_type": "stream",
          "name": "stdout",
          "text": [
            "[[1. 1. 1.]\n",
            " [1. 1. 1.]\n",
            " [1. 1. 1.]\n",
            " [1. 1. 1.]\n",
            " [1. 1. 1.]]\n"
          ]
        }
      ]
    },
    {
      "cell_type": "code",
      "source": [
        "print(np.arange(1, 10, 2)) # arrange(start, stop, step)"
      ],
      "metadata": {
        "colab": {
          "base_uri": "https://localhost:8080/"
        },
        "id": "l60roRICmZvJ",
        "outputId": "8751256a-e4c0-47de-bb69-77b8376352e0"
      },
      "execution_count": 26,
      "outputs": [
        {
          "output_type": "stream",
          "name": "stdout",
          "text": [
            "[1 3 5 7 9]\n"
          ]
        }
      ]
    },
    {
      "cell_type": "code",
      "source": [
        "print(np.linspace(1, 10, 2)) #linspace(start, stop, number)"
      ],
      "metadata": {
        "colab": {
          "base_uri": "https://localhost:8080/"
        },
        "id": "eqNX_vPsnD9I",
        "outputId": "a2d2beb7-6392-4cff-cb7c-73a2f643868d"
      },
      "execution_count": 27,
      "outputs": [
        {
          "output_type": "stream",
          "name": "stdout",
          "text": [
            "[ 1. 10.]\n"
          ]
        }
      ]
    },
    {
      "cell_type": "code",
      "source": [
        "print(np.logspace(1, 10, 2)) #logspace(start,stop,number)"
      ],
      "metadata": {
        "colab": {
          "base_uri": "https://localhost:8080/"
        },
        "id": "JEc2FX2xoAIN",
        "outputId": "89144ca6-bbb1-480b-b3f8-73950c14bf5c"
      },
      "execution_count": 29,
      "outputs": [
        {
          "output_type": "stream",
          "name": "stdout",
          "text": [
            "[1.e+01 1.e+10]\n"
          ]
        }
      ]
    },
    {
      "cell_type": "code",
      "source": [
        "print(np.full((2,2), 4)) #membuat array matriks dengan shape (2,2)"
      ],
      "metadata": {
        "colab": {
          "base_uri": "https://localhost:8080/"
        },
        "id": "FC04U_ldngnI",
        "outputId": "67542265-5ea8-4730-e9a2-c172ee3a3114"
      },
      "execution_count": 28,
      "outputs": [
        {
          "output_type": "stream",
          "name": "stdout",
          "text": [
            "[[4 4]\n",
            " [4 4]]\n"
          ]
        }
      ]
    },
    {
      "cell_type": "code",
      "source": [
        "A = np.array([[1,2,3,4,5,6,7], [8,9,10,11,12,13,14]])\n",
        "print(A)\n",
        "\n",
        "print(np.full_like(A, 3)) #membuat array matriks dengan shape yang sama dengan A dengan semua elemennya\n"
      ],
      "metadata": {
        "colab": {
          "base_uri": "https://localhost:8080/"
        },
        "id": "ezlTH2KHoVr8",
        "outputId": "8026e68a-3221-4766-f142-7afd01ebb821"
      },
      "execution_count": 34,
      "outputs": [
        {
          "output_type": "stream",
          "name": "stdout",
          "text": [
            "[[ 1  2  3  4  5  6  7]\n",
            " [ 8  9 10 11 12 13 14]]\n",
            "[[3 3 3 3 3 3 3]\n",
            " [3 3 3 3 3 3 3]]\n"
          ]
        }
      ]
    },
    {
      "cell_type": "code",
      "source": [
        "print(np.random.rand(4,2)) # Random decimal numbers"
      ],
      "metadata": {
        "colab": {
          "base_uri": "https://localhost:8080/"
        },
        "id": "7nZx117MqaHc",
        "outputId": "fc5303b1-76d9-4c04-b3da-2d21a498e201"
      },
      "execution_count": null,
      "outputs": [
        {
          "output_type": "stream",
          "name": "stdout",
          "text": [
            "[[0.87812872 0.16359164]\n",
            " [0.88543623 0.12972127]\n",
            " [0.1151584  0.69951599]\n",
            " [0.6064261  0.02821672]]\n"
          ]
        }
      ]
    },
    {
      "cell_type": "code",
      "source": [
        "print(np.random.randint(-4,8, size=(3,3))) # Random Integer values"
      ],
      "metadata": {
        "colab": {
          "base_uri": "https://localhost:8080/"
        },
        "id": "maT3FDSjq-OX",
        "outputId": "48975f98-4952-4f53-8e83-a36833b9e04b"
      },
      "execution_count": null,
      "outputs": [
        {
          "output_type": "stream",
          "name": "stdout",
          "text": [
            "[[-2 -3  7]\n",
            " [ 6  5  7]\n",
            " [ 6  5  7]]\n"
          ]
        }
      ]
    },
    {
      "cell_type": "code",
      "source": [
        "print(np.identity(5)) # Membuat matriks identitas"
      ],
      "metadata": {
        "colab": {
          "base_uri": "https://localhost:8080/"
        },
        "id": "DOk5Yul7rO3Z",
        "outputId": "b64f7690-fde6-4d36-84fd-1a59965d7e05"
      },
      "execution_count": null,
      "outputs": [
        {
          "output_type": "stream",
          "name": "stdout",
          "text": [
            "[[1. 0. 0. 0. 0.]\n",
            " [0. 1. 0. 0. 0.]\n",
            " [0. 0. 1. 0. 0.]\n",
            " [0. 0. 0. 1. 0.]\n",
            " [0. 0. 0. 0. 1.]]\n"
          ]
        }
      ]
    },
    {
      "cell_type": "code",
      "source": [
        "arr = np.array([[1,2,3]]) # Membuat matriks dengan perulangan array\n",
        "r1 = np.repeat(arr,3, axis=0)\n",
        "print(r1)"
      ],
      "metadata": {
        "colab": {
          "base_uri": "https://localhost:8080/"
        },
        "id": "LYciRH9ErbhV",
        "outputId": "c6063d1f-fa00-4265-eb09-173255dc91c6"
      },
      "execution_count": null,
      "outputs": [
        {
          "output_type": "stream",
          "name": "stdout",
          "text": [
            "[[1 2 3]\n",
            " [1 2 3]\n",
            " [1 2 3]]\n"
          ]
        }
      ]
    },
    {
      "cell_type": "markdown",
      "source": [
        "#Membuat Array NumPy"
      ],
      "metadata": {
        "id": "IC4dr_7rqaGT"
      }
    },
    {
      "cell_type": "markdown",
      "source": [
        "Kita bisa membuat Array menggunakan NumPy dengan membungkusnya terlebih dahulu di List dan dirubah menjadi numpy array"
      ],
      "metadata": {
        "id": "IYScyuP9qgBC"
      }
    },
    {
      "cell_type": "code",
      "source": [
        "list_1 = [1,2,3,4,5]\n",
        "arr_1 = np.array([list_1])\n",
        "arr_1"
      ],
      "metadata": {
        "colab": {
          "base_uri": "https://localhost:8080/"
        },
        "id": "g9LCgQn-qfWI",
        "outputId": "e8c99f85-f90e-45e7-c5c6-b70ef4e3f9cc"
      },
      "execution_count": 35,
      "outputs": [
        {
          "output_type": "execute_result",
          "data": {
            "text/plain": [
              "array([[1, 2, 3, 4, 5]])"
            ]
          },
          "metadata": {},
          "execution_count": 35
        }
      ]
    },
    {
      "cell_type": "markdown",
      "source": [
        "#Beberapa fungsi yang dapat digunakan dalam membuat array"
      ],
      "metadata": {
        "id": "ZL-CyzSCuNqM"
      }
    },
    {
      "cell_type": "markdown",
      "source": [
        "zeros()    -> Membuat array dengan nilai 0\n",
        "\n",
        "ones()     -> Membuat array dengan nilal 1\n",
        "\n",
        "arange()   -> Membuat array dengan nilai dalam range\n",
        "\n",
        "Linspace() -> Membuat array dengan nilai dalan interval\n",
        "\n",
        "logspace() -> Membuat array dengan nilai log Base10 dalam Interval\n",
        "\n",
        "full       -> Membuat array dengan semua elemen penyusunnya sama\n",
        "\n",
        "full like  -> Membuat array dengan semua elemen penyusunnya sana namun ukurannya dari array lainnya\n",
        "\n",
        "Identity   -> Membuat array matriks identitas\n",
        "\n",
        "repeat     -> Membuat array dengan perulangan array atau sequence"
      ],
      "metadata": {
        "id": "nl6e7jghr5Gv"
      }
    },
    {
      "cell_type": "markdown",
      "source": [
        "# Multidimensional Array"
      ],
      "metadata": {
        "id": "e2rnMTVefDOA"
      }
    },
    {
      "cell_type": "markdown",
      "source": [
        "Salah satu fitur menarik dari NumPy adalah dia mampu membuat multidimensional array yang melakukan manupulasi array dengan mudah dan cepat\n",
        "\n",
        "\n",
        "Multidimentional array adalah array berbentuk lebih dari 1 dimensi (1D), bisa 2D, 3D, 4D dan seterusnya\n",
        "\n",
        "\n",
        "Cara membuat multidimentional array sama dengan membuat array 1 dimensi, perbedaannya hanya pada parameter yang digunakan\n",
        "\n",
        "\n",
        "Berikut contohnya membuat array 2 dimensi"
      ],
      "metadata": {
        "id": "LD5G1jkSunC4"
      }
    },
    {
      "cell_type": "code",
      "source": [
        "arr_2 = np.array([(1,2,3,4,5), (2.4.6.8.10)])\n",
        "arr_2"
      ],
      "metadata": {
        "id": "OXGagzFHvmDs"
      },
      "execution_count": null,
      "outputs": []
    },
    {
      "cell_type": "markdown",
      "source": [
        "# Metode-metode pada Array"
      ],
      "metadata": {
        "id": "pAqr1I71r98n"
      }
    },
    {
      "cell_type": "code",
      "source": [
        "a=np.array([29, 28,30], dtype='int32')"
      ],
      "metadata": {
        "id": "v1xLFaVtr3Dy"
      },
      "execution_count": null,
      "outputs": []
    },
    {
      "cell_type": "markdown",
      "source": [
        "# Indexing dan Slicing"
      ],
      "metadata": {
        "id": "_IeWNK5dfMyg"
      }
    },
    {
      "cell_type": "markdown",
      "source": [
        "Kita juga dapat melakukan indexing dan slicing terhadap array dengan mudah \n",
        "\n",
        "Indexing dimulai dari 0 dan dimulai dengan notasi bracket \"[ ]\"\n",
        "\n",
        "Misal kita ingin mencari nilai yang berada di index 0,2, dan 4"
      ],
      "metadata": {
        "id": "DmmfVLurwfQe"
      }
    },
    {
      "cell_type": "code",
      "source": [
        "arr_3 = np.array([1,2,3,4,5])\n",
        "print(arr_3[0])\n",
        "print(arr_3[2])\n",
        "print(arr_3[4])"
      ],
      "metadata": {
        "id": "0PjR1d5KfQTa",
        "colab": {
          "base_uri": "https://localhost:8080/"
        },
        "outputId": "2cf723ab-995d-4d1c-ea45-6f2ca0079f1f"
      },
      "execution_count": 38,
      "outputs": [
        {
          "output_type": "stream",
          "name": "stdout",
          "text": [
            "1\n",
            "3\n",
            "5\n"
          ]
        }
      ]
    },
    {
      "cell_type": "markdown",
      "source": [
        "# Operasi Aritmatika"
      ],
      "metadata": {
        "id": "y8yGDKiQfYlX"
      }
    },
    {
      "cell_type": "markdown",
      "source": [
        "Kita bisa menggunakan operasi aritmatika seperti penjumlahan, pengurangan, perkalian, pembagian, dan perpangkatan\n",
        "\n",
        "Operator yang digunakan adalah +,-,./dan*\n",
        "\n",
        "Berikut contoh operasi aritmatika pada array"
      ],
      "metadata": {
        "id": "kiZICN_s2Cw0"
      }
    }
  ],
  "metadata": {
    "colab": {
      "provenance": [],
      "collapsed_sections": [
        "adAzA3uOtEqb"
      ]
    },
    "kernelspec": {
      "display_name": "Python 3",
      "name": "python3"
    },
    "language_info": {
      "name": "python"
    }
  },
  "nbformat": 4,
  "nbformat_minor": 0
}